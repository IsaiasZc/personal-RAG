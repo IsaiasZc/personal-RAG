{
 "cells": [
  {
   "cell_type": "code",
   "execution_count": 1,
   "metadata": {},
   "outputs": [],
   "source": [
    "from llama_index.core import Document\n",
    "from llama_index.core.node_parser import JSONNodeParser\n",
    "from llama_index.embeddings.openai import OpenAIEmbedding\n"
   ]
  },
  {
   "cell_type": "code",
   "execution_count": 2,
   "metadata": {},
   "outputs": [],
   "source": [
    "# configure\n",
    "\n",
    "filename = \"recipes_flat.json\"\n"
   ]
  },
  {
   "cell_type": "code",
   "execution_count": 3,
   "metadata": {},
   "outputs": [
    {
     "name": "stdout",
     "output_type": "stream",
     "text": [
      "2091083\n"
     ]
    }
   ],
   "source": [
    "with open(f\"data/loader/{filename}\", \"r\", encoding=\"utf-8\") as file:\n",
    "    document = Document(\n",
    "        text=file.read(),\n",
    "        metadata={\"filename\": filename},\n",
    "    )\n",
    "print(len(document.text))\n"
   ]
  },
  {
   "cell_type": "code",
   "execution_count": 4,
   "metadata": {},
   "outputs": [
    {
     "name": "stdout",
     "output_type": "stream",
     "text": [
      "1397\n"
     ]
    }
   ],
   "source": [
    "splitter = JSONNodeParser()\n",
    "nodes = splitter.get_nodes_from_documents([document], show_progress=False)\n",
    "print(len(nodes))\n"
   ]
  },
  {
   "cell_type": "code",
   "execution_count": 5,
   "metadata": {},
   "outputs": [
    {
     "name": "stdout",
     "output_type": "stream",
     "text": [
      ">>>0 2fc3af99-3b17-4f02-8a56-126d7b2bfa26\n",
      "Metadata {'filename': 'recipes_flat.json'}\n",
      "Text category Bebidas\n",
      "name Margarita Cristalina\n",
      "source https://www.kiwilimon.com/receta/bebidas/cocteles/margarita-cristalina\n",
      "prep_time 5 mins\n",
      "cook_time N/A\n",
      "difficulty Baja\n",
      "ingredients 1 1/2 onzas de Tequi\n",
      "\n",
      "\n",
      "\n",
      ">>>1 5116a0e4-672e-4238-b083-53afc61e8466\n",
      "Metadata {'filename': 'recipes_flat.json'}\n",
      "Text category Bebidas\n",
      "name Gin Con Lichi\n",
      "source https://www.kiwilimon.com/receta/bebidas/cocteles/gin-con-lichi\n",
      "prep_time 5 mins\n",
      "cook_time N/A\n",
      "difficulty Baja\n",
      "ingredients suficiente de hielo, en cubos\n",
      "1 1/\n",
      "\n",
      "\n",
      "\n",
      ">>>2 39ee8311-06cf-4a26-b7b6-c7abde4d3707\n",
      "Metadata {'filename': 'recipes_flat.json'}\n",
      "Text category Bebidas\n",
      "name Martini 007\n",
      "source https://www.kiwilimon.com/receta/bebidas/cocteles/martini-007\n",
      "prep_time 5 mins\n",
      "cook_time N/A\n",
      "difficulty Baja\n",
      "ingredients 2 onzas de ginebra\n",
      "1 onza de vodka, en\n",
      "\n",
      "\n",
      "\n",
      ">>>3 85da6084-57fd-4155-8447-fb9bdd040da8\n",
      "Metadata {'filename': 'recipes_flat.json'}\n",
      "Text category Bebidas\n",
      "name Agua De Guayaba\n",
      "source https://www.kiwilimon.com/receta/bebidas/sin-alcohol/aguas-frescas/agua-de-guayaba\n",
      "prep_time 10 mins\n",
      "cook_time N/A\n",
      "difficulty Baja\n",
      "ingredients 500 gramos d\n",
      "\n",
      "\n",
      "\n",
      ">>>4 ff285140-9a91-46b4-b6e2-17ec3c8a22a3\n",
      "Metadata {'filename': 'recipes_flat.json'}\n",
      "Text category Bebidas\n",
      "name Frappe De Concha\n",
      "source https://www.kiwilimon.com/receta/bebidas/sin-alcohol/licuados/frappe-de-concha\n",
      "prep_time 10 mins\n",
      "cook_time N/A\n",
      "difficulty Baja\n",
      "ingredients 1 taza de hielo\n",
      "\n",
      "\n",
      "\n"
     ]
    }
   ],
   "source": [
    "for ix, node in enumerate(nodes[0:5]):\n",
    "    print(f\">>>{ix} {node.id_}\")\n",
    "    print(\"Metadata\", node.metadata)\n",
    "    print(\"Text\", node.text[:200])\n",
    "    print(\"\\n\\n\")\n"
   ]
  },
  {
   "cell_type": "code",
   "execution_count": 6,
   "metadata": {},
   "outputs": [],
   "source": [
    "import re\n",
    "\n",
    "import chromadb\n",
    "\n",
    "from llama_index.core import VectorStoreIndex, StorageContext\n",
    "from llama_index.core.retrievers import VectorIndexAutoRetriever\n",
    "from llama_index.core.vector_stores.types import MetadataInfo, VectorStoreInfo\n",
    "from llama_index.vector_stores.chroma import ChromaVectorStore\n",
    "\n",
    "from llama_index.llms.openai import OpenAI\n",
    "\n",
    "# from llama_index.embeddings.huggingface import HuggingFaceEmbedding\n",
    "from llama_index.embeddings.openai import OpenAIEmbedding\n",
    "\n",
    "## import settings from llama_index\n",
    "from llama_index.core import Settings\n",
    "from chromadb.config import Settings as StChroma\n"
   ]
  },
  {
   "cell_type": "code",
   "execution_count": 23,
   "metadata": {},
   "outputs": [],
   "source": [
    "# configure the llm and the embedding model\n",
    "llm = OpenAI(\n",
    "    model=\"gpt-4o-mini\",\n",
    "    temperature=0.5,\n",
    ")\n",
    "\n",
    "Settings.llm = llm\n",
    "Settings.embed_model = OpenAIEmbedding(model=\"text-embedding-3-small\")\n"
   ]
  },
  {
   "cell_type": "code",
   "execution_count": 8,
   "metadata": {},
   "outputs": [],
   "source": [
    "chroma_client = chromadb.PersistentClient(\n",
    "    path=\"./chroma_recipe\", settings=StChroma(allow_reset=True)\n",
    ")\n",
    "chroma_collection = chroma_client.get_or_create_collection(name=\"recipes\")\n",
    "\n",
    "vector_store = ChromaVectorStore(chroma_collection=chroma_collection)\n",
    "storage_context = StorageContext.from_defaults(vector_store=vector_store)\n",
    "\n",
    "index = VectorStoreIndex(nodes, storage_context=storage_context)\n"
   ]
  },
  {
   "cell_type": "code",
   "execution_count": null,
   "metadata": {},
   "outputs": [],
   "source": []
  },
  {
   "cell_type": "code",
   "execution_count": 9,
   "metadata": {},
   "outputs": [],
   "source": [
    "vector_store_info = VectorStoreInfo(\n",
    "    content_info=\"Recipes from the web to eat in diferent ocasions\",\n",
    "    metadata_info=[\n",
    "        MetadataInfo(\n",
    "            name=\"filename\",\n",
    "            type=\"str\",\n",
    "            description=(\n",
    "                \"The filename of the document where the recipe was extracted from\"\n",
    "            ),\n",
    "        ),\n",
    "    ],\n",
    ")\n",
    "retriever = VectorIndexAutoRetriever(\n",
    "    index, vector_store_info=vector_store_info, similarity_top_k=2\n",
    ")\n"
   ]
  },
  {
   "cell_type": "code",
   "execution_count": 10,
   "metadata": {},
   "outputs": [
    {
     "data": {
      "text/plain": [
       "[NodeWithScore(node=TextNode(id_='093211e3-34d1-409f-b693-2e9b518ec601', embedding=None, metadata={'filename': 'recipes_flat.json'}, excluded_embed_metadata_keys=[], excluded_llm_metadata_keys=[], relationships={<NodeRelationship.SOURCE: '1'>: RelatedNodeInfo(node_id='3137aa99-4b50-4d02-a7da-0fb91e8e80ab', node_type=<ObjectType.DOCUMENT: '4'>, metadata={'filename': 'recipes_flat.json'}, hash='f97ac26fbb96bc6da10d33567380c98af7e8ec0589da4ace2435cd5fa39c259e'), <NodeRelationship.PREVIOUS: '2'>: RelatedNodeInfo(node_id='350d9405-cb0d-4119-83dd-02788f6fe3cb', node_type=<ObjectType.TEXT: '1'>, metadata={'filename': 'recipes_flat.json'}, hash='dca514c135bd149d0d07a540847ad6eebd83cf861e9fca795169dbb86c3b2c5e'), <NodeRelationship.NEXT: '3'>: RelatedNodeInfo(node_id='64bfef35-5e53-4459-bef2-07b56800404c', node_type=<ObjectType.TEXT: '1'>, metadata={}, hash='aba24d4945562b0073af7910ff5ee7c9ddc0dea104bfcd9616737293bf1e9009')}, text='category Postres\\nname Crema Batida Sabor Chocolate\\nsource https://www.kiwilimon.com/receta/postres/chocolate/betun-de-chocolate/crema-batida-sabor-chocolate\\nprep_time 10 mins\\ncook_time N/A\\ndifficulty Baja\\ningredients 2 tazas de crema para batir\\n1/4 tazas de cocoa en polvo\\n1/3 tazas de azúcar glas\\n1 pizca de sal\\n1 cucharada de esencia de vainilla\\npreparation Coloca la crema para batir, la cocoa, el azúcar glas, la sal y la vainilla en un bowl. Bate por 5 minutos o hasta que la crema esté firme.\\nTapa la crema para batir y refrigera hasta que la utilices.', mimetype='text/plain', start_char_idx=None, end_char_idx=None, text_template='{metadata_str}\\n\\n{content}', metadata_template='{key}: {value}', metadata_seperator='\\n'), score=0.4451102204741738),\n",
       " NodeWithScore(node=TextNode(id_='fdb2bd4e-05d5-4ad1-a6bd-4a1546d63b62', embedding=None, metadata={'filename': 'recipes_flat.json'}, excluded_embed_metadata_keys=[], excluded_llm_metadata_keys=[], relationships={<NodeRelationship.SOURCE: '1'>: RelatedNodeInfo(node_id='3137aa99-4b50-4d02-a7da-0fb91e8e80ab', node_type=<ObjectType.DOCUMENT: '4'>, metadata={'filename': 'recipes_flat.json'}, hash='f97ac26fbb96bc6da10d33567380c98af7e8ec0589da4ace2435cd5fa39c259e'), <NodeRelationship.PREVIOUS: '2'>: RelatedNodeInfo(node_id='a787d3f9-f8f5-4a6b-a5cb-01bf8d6d75ab', node_type=<ObjectType.TEXT: '1'>, metadata={'filename': 'recipes_flat.json'}, hash='f4a534e4ad62118d9da084bfcc63758489af6b3b6805485a56d414feaae4f76d'), <NodeRelationship.NEXT: '3'>: RelatedNodeInfo(node_id='ed9c2971-e886-42d8-9855-3393ec98d202', node_type=<ObjectType.TEXT: '1'>, metadata={}, hash='a567edb5c6856c27febb2189ba96aa6ebcef5102aeb940b6d4fb7085f38cdc37')}, text='category Postres\\nname Brownie Navideno\\nsource https://www.kiwilimon.com/receta/recetas-navidenas/brownie-navideno\\nprep_time 20 mins\\ncook_time 40 mins\\ndifficulty Baja\\ningredients 1 taza de Hershey’s Cocoa Natural\\n1 taza de harina de trigo\\n1/2 cucharadas de polvo para hornear\\n1/4 cucharadas de sal\\n1 1/2 cucharadas de café soluble\\n1 taza de mantequilla, derretida\\n2 cucharadas de aceite vegetal\\n1 1/4 tazas de azúcar\\n1 taza de azúcar mascabado\\n4 huevos\\n1 cucharada de vainilla líquida\\n1 Barra de repostería Hershey’s chocolate semiamargo\\nbetún al gusto, colo rojo\\nbetún al gusto, color verde\\nperlas comestibles al gusto\\npreparation Corta la Barra de repostería Hershey’s chocolate semi-amargo en trozos medianos y reserva.\\nEn un bowl, mezcla Hershey’s Cocoa Natural, la harina, el polvo para hornear, la sal y el café soluble. Reserva.\\nEn otro bowl, mezcla la mantequilla, el aceite, los azúcares, los huevos y la vainilla en un batidor globo hasta que todos los ingredientes estén integrados. Agrega la mezcla de los ingredientes secos y mezcla con un miserable. Por último, añade la Barra de repostería Hershey’s chocolate semi-amargo en trozos e integra.\\nVierte la mezcla de brownies en un molde cuadrado y hornea a 180 °C por 40 minutos o hasta que estén listos.\\nUna vez listos, corta los brownies en triángulos y decora con betún verde y rojo y perlas comestibles.', mimetype='text/plain', start_char_idx=None, end_char_idx=None, text_template='{metadata_str}\\n\\n{content}', metadata_template='{key}: {value}', metadata_seperator='\\n'), score=0.43737393532188457)]"
      ]
     },
     "execution_count": 10,
     "metadata": {},
     "output_type": "execute_result"
    }
   ],
   "source": [
    "retriever.retrieve(\"Give me a recipe with chocolate\")\n"
   ]
  },
  {
   "cell_type": "code",
   "execution_count": 24,
   "metadata": {},
   "outputs": [
    {
     "name": "stdout",
     "output_type": "stream",
     "text": [
      "Added user message to memory: Dame una receta sencilla de preparar\n",
      "=== Calling Function ===\n",
      "Calling function: query_engine_tool with args: {\"input\":\"receta sencilla de preparar\"}\n",
      "Got output: Una receta sencilla de preparar es la Lasana Fácil en Microondas. Tiene un tiempo de preparación de 35 minutos y es de dificultad baja. Los ingredientes incluyen mantequilla, harina, leche, mayonesa, queso manchego, carne molida de res, salsa de tomate y pasta para lasagna. La preparación consiste en hacer una salsa, cocinar la carne, armar la lasagna en un bote y calentarla en el microondas. Es ideal para disfrutar de una comida deliciosa sin complicaciones.\n",
      "========================\n",
      "\n"
     ]
    }
   ],
   "source": [
    "engine = index.as_chat_engine(chat_mode=\"best\", llm=llm, verbose=True)\n",
    "result = engine.query(\"Dame una receta sencilla de preparar\")\n"
   ]
  },
  {
   "cell_type": "code",
   "execution_count": 27,
   "metadata": {},
   "outputs": [
    {
     "name": "stdout",
     "output_type": "stream",
     "text": [
      "Added user message to memory: Dame una bebida con limón\n",
      "=== Calling Function ===\n",
      "Calling function: query_engine_tool with args: {\"input\":\"receta de bebida con limón\"}\n",
      "Got output: Una receta de bebida con limón es la Limonada De Pepino Con Ron. Para prepararla, necesitas los siguientes ingredientes: suficiente de hielo, 2 onzas de Bacardí® Limón Verde, 1 onza de concentrado de pepino, 1/2 onzas de jarabe natural, 1/2 onzas de jugo de limón, 100 mililitros de agua mineral (o hasta llenar el vaso) y hierbabuena al gusto para decorar. \n",
      "\n",
      "La preparación consiste en servir hielo en un vaso, verter el Bacardí® Limón Verde, el concentrado de pepino, el jarabe natural y el jugo de limón. Mezcla con una bailarina y agrega el agua mineral. Decora con hierbabuena y disfruta. \n",
      "\n",
      "Otra opción es el Limonic, que lleva también 2 onzas de Bacardí® Limón Verde, 200 mililitros de agua tónica, suficiente de hielo y rodajas de limón para decorar. Para su preparación, sirve hielo en un vaso, vierte el Bacardí® Limón Verde y el agua tónica, mezcla y decora con una rodaja de limón. ¡Disfruta!\n",
      "========================\n",
      "\n"
     ]
    }
   ],
   "source": [
    "result = engine.query(\"Dame una bebida con limón\")\n"
   ]
  },
  {
   "cell_type": "code",
   "execution_count": 28,
   "metadata": {},
   "outputs": [
    {
     "name": "stdout",
     "output_type": "stream",
     "text": [
      "Aquí tienes dos recetas de bebidas con limón:\n",
      "\n",
      "1. **Limonada De Pepino Con Ron**:\n",
      "   - **Ingredientes**:\n",
      "     - Hielo\n",
      "     - 2 onzas de Bacardí® Limón Verde\n",
      "     - 1 onza de concentrado de pepino\n",
      "     - 1/2 onza de jarabe natural\n",
      "     - 1/2 onza de jugo de limón\n",
      "     - 100 mililitros de agua mineral (o hasta llenar el vaso)\n",
      "     - Hierbabuena al gusto para decorar\n",
      "\n",
      "   - **Preparación**:\n",
      "     1. Sirve hielo en un vaso.\n",
      "     2. Vierte el Bacardí® Limón Verde, el concentrado de pepino, el jarabe natural y el jugo de limón.\n",
      "     3. Mezcla con una cuchara.\n",
      "     4. Agrega el agua mineral.\n",
      "     5. Decora con hierbabuena y disfruta.\n",
      "\n",
      "2. **Limonic**:\n",
      "   - **Ingredientes**:\n",
      "     - Hielo\n",
      "     - 2 onzas de Bacardí® Limón Verde\n",
      "     - 200 mililitros de agua tónica\n",
      "     - Rodajas de limón para decorar\n",
      "\n",
      "   - **Preparación**:\n",
      "     1. Sirve hielo en un vaso.\n",
      "     2. Vierte el Bacardí® Limón Verde y el agua tónica.\n",
      "     3. Mezcla y decora con una rodaja de limón.\n",
      "     4. ¡Disfruta!\n",
      "\n",
      "Ambas son refrescantes y perfectas para un día caluroso. ¡Salud!\n"
     ]
    }
   ],
   "source": [
    "print(result)\n"
   ]
  },
  {
   "cell_type": "code",
   "execution_count": 29,
   "metadata": {},
   "outputs": [
    {
     "data": {
      "text/plain": [
       "{}"
      ]
     },
     "execution_count": 29,
     "metadata": {},
     "output_type": "execute_result"
    }
   ],
   "source": [
    "engine.get\n"
   ]
  },
  {
   "cell_type": "markdown",
   "metadata": {},
   "source": [
    "## Vector Retriever (with chroma in local)\n"
   ]
  },
  {
   "cell_type": "code",
   "execution_count": 32,
   "metadata": {},
   "outputs": [],
   "source": [
    "from llama_index.core.query_engine import RetrieverQueryEngine\n",
    "from llama_index.llms.openai import OpenAI\n"
   ]
  },
  {
   "cell_type": "code",
   "execution_count": 42,
   "metadata": {},
   "outputs": [],
   "source": [
    "chroma_client = chromadb.PersistentClient(\n",
    "    path=\"./chroma_recipe\", settings=StChroma(allow_reset=True)\n",
    ")\n",
    "chroma_collection = chroma_client.get_or_create_collection(name=\"recipes\")\n",
    "\n",
    "vector_store = ChromaVectorStore(chroma_collection=chroma_collection)\n",
    "storage_context = StorageContext.from_defaults(vector_store=vector_store)\n",
    "\n",
    "index = VectorStoreIndex.from_vector_store(\n",
    "    vector_store, storage_context=storage_context\n",
    ")\n"
   ]
  },
  {
   "cell_type": "code",
   "execution_count": 43,
   "metadata": {},
   "outputs": [],
   "source": [
    "vector_store_info = VectorStoreInfo(\n",
    "    content_info=\"Recipes from the web to eat in diferent ocasions\",\n",
    "    metadata_info=[\n",
    "        MetadataInfo(\n",
    "            name=\"filename\",\n",
    "            type=\"str\",\n",
    "            description=(\n",
    "                \"The filename of the document where the recipe was extracted from\"\n",
    "            ),\n",
    "        ),\n",
    "    ],\n",
    ")\n",
    "retriever = VectorIndexAutoRetriever(\n",
    "    index,\n",
    "    vector_store_info=vector_store_info,\n",
    "    similarity_top_k=3,\n",
    "    verbose=True,\n",
    ")\n"
   ]
  },
  {
   "cell_type": "code",
   "execution_count": 47,
   "metadata": {},
   "outputs": [],
   "source": [
    "llm = OpenAI(\n",
    "    model=\"gpt-4o-mini\",\n",
    "    temperature=0.2,\n",
    ")\n",
    "\n",
    "query_engine = RetrieverQueryEngine.from_args(\n",
    "    retriever,\n",
    "    llm=llm,\n",
    ")\n"
   ]
  },
  {
   "cell_type": "code",
   "execution_count": null,
   "metadata": {},
   "outputs": [],
   "source": [
    "query_engine\n"
   ]
  },
  {
   "cell_type": "code",
   "execution_count": 49,
   "metadata": {},
   "outputs": [
    {
     "name": "stdout",
     "output_type": "stream",
     "text": [
      "Using query str: Recetas calientes para el frío\n",
      "Using filters: []\n"
     ]
    }
   ],
   "source": [
    "resp = query_engine.query(\"Recomiendame algo caliente para el frío\")\n"
   ]
  },
  {
   "cell_type": "code",
   "execution_count": 50,
   "metadata": {},
   "outputs": [
    {
     "name": "stdout",
     "output_type": "stream",
     "text": [
      "Te recomiendo preparar un delicioso caldo de queso. Es una opción reconfortante y fácil de hacer. Solo necesitas ingredientes como cebolla, jitomate, papas, chiles, leche y queso fresco. Se cocina todo junto para obtener un caldo caliente y sabroso, perfecto para disfrutar en un día frío. ¡Sirve bien caliente y disfruta!\n"
     ]
    }
   ],
   "source": [
    "print(resp)\n"
   ]
  }
 ],
 "metadata": {
  "kernelspec": {
   "display_name": ".venv",
   "language": "python",
   "name": "python3"
  },
  "language_info": {
   "codemirror_mode": {
    "name": "ipython",
    "version": 3
   },
   "file_extension": ".py",
   "mimetype": "text/x-python",
   "name": "python",
   "nbconvert_exporter": "python",
   "pygments_lexer": "ipython3",
   "version": "3.11.8"
  }
 },
 "nbformat": 4,
 "nbformat_minor": 2
}
