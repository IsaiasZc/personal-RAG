{
 "cells": [
  {
   "cell_type": "code",
   "execution_count": 2,
   "metadata": {},
   "outputs": [],
   "source": [
    "import pandas as pd\n",
    "from sqlalchemy import create_engine\n",
    "from llama_index.llms.openai import OpenAI\n",
    "from llama_index.core.query_engine import NLSQLTableQueryEngine\n",
    "from llama_index.core import SQLDatabase\n",
    "\n",
    "from llama_index.core.prompts import BasePromptTemplate, PromptTemplate\n"
   ]
  },
  {
   "cell_type": "code",
   "execution_count": 3,
   "metadata": {},
   "outputs": [],
   "source": [
    "file_path = \"data/out/recipes_flat.json\"\n",
    "df = pd.read_json(file_path)\n",
    "llm_gpt = OpenAI(\n",
    "    model=\"gpt-4o-mini\",\n",
    "    temperature=0.2,\n",
    ")\n",
    "# embed_gpt = OpenAIEmbedding(model='text-embedding-3-large')\n"
   ]
  },
  {
   "cell_type": "code",
   "execution_count": 4,
   "metadata": {},
   "outputs": [],
   "source": [
    "engine = create_engine(\"sqlite:///data/out/recipes.db\")\n",
    "\n",
    "sql_database = SQLDatabase(\n",
    "    engine=engine, include_tables=[\"recipes\"], sample_rows_in_table_info=2\n",
    ")\n"
   ]
  },
  {
   "cell_type": "markdown",
   "metadata": {},
   "source": [
    "We need to tune the model because the LLM can return aswers that are not related to the question. We can use a simple heuristic to filter out these answers. We can check if the answer contains any of the words in the question. If it does, we can discard the answer. This heuristic is not perfect, but it can help to improve the performance of the model. we can modify the model for the query search and the response too\n"
   ]
  },
  {
   "cell_type": "code",
   "execution_count": 53,
   "metadata": {},
   "outputs": [],
   "source": [
    "PROMPT_MODEL = \"\"\"\n",
    "'Given an input question, synthesize a response from the query results.\n",
    "\n",
    "If the question is about a recipe, provide the recipe details in a friendly and helpful manner.\n",
    "If the answer is not in the database, respond kindly with \"I’m sorry, I don't have that information at the moment, but I’d love to help you with something else.\"\n",
    "If the question is not about a recipe, respond warmly with \"I specialize in recipes, and I'd be delighted to assist you with any culinary questions you have!\"\n",
    "\n",
    "You are a friendly and gentle chatbot with a warm personality.\n",
    "\n",
    "Query: {query_str}\n",
    "SQL: {sql_query}\n",
    "SQL Response: {context_str}\n",
    "Response: '\n",
    "\"\"\"\n",
    "\n",
    "\n",
    "response_synthesis_prompt = PromptTemplate(\n",
    "    template=PROMPT_MODEL,\n",
    ")\n"
   ]
  },
  {
   "cell_type": "code",
   "execution_count": 115,
   "metadata": {},
   "outputs": [],
   "source": [
    "## SQL prompt template\n",
    "SQL_PROMPT_MODEL = \"\"\"\n",
    "Given an input question, first identify relevant keywords and possible synonyms based on the context of the user's question and the database schema, column names, or categories. Use many key words for the search if necessary. Then create a syntactically correct {dialect} query to run. After looking at the results of the query, return the answer. You can order the results by a relevant column to return the most interesting examples in the database.\n",
    "\n",
    "Never query for all the columns from a specific table, only ask for a few relevant columns given the question.\n",
    "\n",
    "Pay attention to use only the column names that you can see in the schema description. Be careful to not query for columns that do not exist. Pay attention to which column is in which table. Also, qualify column names with the table name when needed. You are required to use the following format, each taking one line:\n",
    "\n",
    "Question: Question here\n",
    "Keywords and Synonyms: Identified keywords and synonyms\n",
    "SQLQuery: SQL Query to run\n",
    "SQLResult: Result of the SQLQuery\n",
    "Answer: Final answer here\n",
    "\n",
    "Only use tables listed below.\n",
    "{schema}\n",
    "\n",
    "You are a friendly and gentle chatbot with a warm personality. Always respond in a kind and helpful manner.\n",
    "\n",
    "Question: {query_str}\n",
    "Keywords and Synonyms:\n",
    "SQLQuery:\n",
    "\"\"\"\n",
    "\n",
    "text_to_sql_prompt = PromptTemplate(template=SQL_PROMPT_MODEL, type=\"text-to-sql\")\n"
   ]
  },
  {
   "cell_type": "code",
   "execution_count": 116,
   "metadata": {},
   "outputs": [],
   "source": [
    "query_engine = NLSQLTableQueryEngine(\n",
    "    sql_database=sql_database,\n",
    "    tables=[\"recipes\"],\n",
    "    llm=llm_gpt,\n",
    "    response_synthesis_prompt=response_synthesis_prompt,\n",
    "    text_to_sql_prompt=text_to_sql_prompt,\n",
    ")\n"
   ]
  },
  {
   "cell_type": "code",
   "execution_count": 119,
   "metadata": {},
   "outputs": [
    {
     "data": {
      "text/plain": [
       "PromptTemplate(metadata={'prompt_type': <PromptType.CUSTOM: 'custom'>}, template_vars=['dialect', 'schema', 'query_str'], kwargs={'type': 'text-to-sql'}, output_parser=None, template_var_mappings=None, function_mappings=None, template=\"\\nGiven an input question, first identify relevant keywords and possible synonyms based on the context of the user's question and the database schema, column names, or categories. Use many key words for the search if necessary. Then create a syntactically correct {dialect} query to run. After looking at the results of the query, return the answer. You can order the results by a relevant column to return the most interesting examples in the database.\\n\\nNever query for all the columns from a specific table, only ask for a few relevant columns given the question.\\n\\nPay attention to use only the column names that you can see in the schema description. Be careful to not query for columns that do not exist. Pay attention to which column is in which table. Also, qualify column names with the table name when needed. You are required to use the following format, each taking one line:\\n\\nQuestion: Question here\\nKeywords and Synonyms: Identified keywords and synonyms\\nSQLQuery: SQL Query to run\\nSQLResult: Result of the SQLQuery\\nAnswer: Final answer here\\n\\nOnly use tables listed below.\\n{schema}\\n\\nYou are a friendly and gentle chatbot with a warm personality. Always respond in a kind and helpful manner.\\n\\nQuestion: {query_str}\\nKeywords and Synonyms:\\nSQLQuery:\\n\")"
      ]
     },
     "execution_count": 119,
     "metadata": {},
     "output_type": "execute_result"
    }
   ],
   "source": [
    "query_engine.get_prompts()[\"sql_retriever:text_to_sql_prompt\"]\n"
   ]
  },
  {
   "cell_type": "code",
   "execution_count": 120,
   "metadata": {},
   "outputs": [
    {
     "data": {
      "text/plain": [
       "'¡Hola! Si estás buscando recetas saludables para bajar de peso, aquí te dejo algunas recomendaciones deliciosas:\\n\\n1. **Receta De Ceviche De Chayote**\\n   - **Tiempo de preparación:** 15 mins\\n   - **Tiempo de cocción:** 5 mins\\n   - **Dificultad:** Baja\\n\\n2. **Coliflor Rostizada Con Dip Cremoso**\\n   - **Tiempo de preparación:** 20 mins\\n   - **Tiempo de cocción:** 35 mins\\n   - **Dificultad:** Baja\\n\\n3. **Ensalada Con Granada Pollo Y Nuez**\\n   - **Tiempo de preparación:** 20 mins\\n   - **Tiempo de cocción:** 15 mins\\n   - **Dificultad:** Baja\\n\\n4. **Tacos De Lechuga Con Atun**\\n   - **Tiempo de preparación:** 10 mins\\n   - **Tiempo de cocción:** N/A\\n   - **Dificultad:** Baja\\n\\n5. **Omelette De Claras Con Verduras**\\n   - **Tiempo de preparación:** 20 mins\\n   - **Tiempo de cocción:** 15 mins\\n   - **Dificultad:** Baja\\n\\nEstas recetas son no solo saludables, sino también fáciles de preparar. ¡Espero que disfrutes cocinando y comiendo estas opciones! Si necesitas más ayuda o detalles sobre alguna receta en particular, no dudes en preguntar. ¡Feliz cocina! 🍽️'"
      ]
     },
     "execution_count": 120,
     "metadata": {},
     "output_type": "execute_result"
    }
   ],
   "source": [
    "query_str = \"que receta me recomiendas si deseo bajar de peso?\"\n",
    "response = query_engine.query(query_str)\n",
    "response.response\n"
   ]
  },
  {
   "cell_type": "code",
   "execution_count": 113,
   "metadata": {},
   "outputs": [
    {
     "name": "stdout",
     "output_type": "stream",
     "text": [
      "SELECT name, prep_time, cook_time, difficulty FROM recipes WHERE category LIKE '%saludable%' ORDER BY difficulty ASC LIMIT 5;\n"
     ]
    }
   ],
   "source": [
    "print(response.metadata[\"sql_query\"])\n"
   ]
  },
  {
   "cell_type": "code",
   "execution_count": 106,
   "metadata": {},
   "outputs": [
    {
     "name": "stdout",
     "output_type": "stream",
     "text": [
      "[('Receta De Ceviche De Chayote', '15 mins', '5 mins', 'Baja'), ('Coliflor Rostizada Con Dip Cremoso', '20 mins', '35 mins', 'Baja'), ('Canoas De Atun', '30 mins', 'N/A', 'Baja'), ('Salsa Martajada Con Tuetano', '50 mins', '15 mins', 'Baja'), ('Ensalada Con Granada Pollo Y Nuez', '20 mins', '15 mins', 'Baja'), ('Pasta Con Chipotle Aguacate Y Mango', '15 mins', '9 mins', 'Baja'), ('Paella De Verduras', '1h', '40 mins', 'Baja'), ('Ensalada Fresca De Melon', '15 mins', 'N/A', 'Baja'), ('Ensalada Mediterranea Con Garbanzos', 'N/A', 'N/A', 'Baja'), ('Lasana De Sushi', '20 mins', '10 mins', 'Baja'), ('Ensalada De Pollo Con Elote Facil', '20 mins', 'N/A', 'Baja'), ('Wrap De Jamon Y Queso', '15 mins', 'N/A', 'Baja'), ('Aguacates Rellenos De Atun', '15 mins', 'N/A', 'Baja'), ('Jugo Verde Facil', 'N/A', 'N/A', 'Baja'), ('Jugo Verde Facil', 'N/A', 'N/A', 'Baja'), ('Galletas Rellenas De Nuez', '40 mins', 'N/A', 'Baja'), ('Ensalada De Camaron', '15 mins', 'N/A', 'Baja'), ('Tinga De Jamaica', '1h', '38 mins', 'Baja'), ('Smoothie Bowl De Sandia Con Platano', '15 mins', 'N/A', 'Baja'), ('Bowls De Yogurt', '15 mins', 'N/A', 'Baja'), ('Avena Con Yogurt', '5 mins', '8 mins', 'Baja'), ('Postre Saludable Con 3 Ingredientes', '5 mins', '50 mins', 'Baja'), ('Galletas De Chocolate Con 3 Ingredientes', '5 mins', '12 mins', 'Baja'), ('Wok De Verduras', '20 mins', '20 mins', 'Baja'), ('Bowl Thai', '40 mins', '10 mins', 'Baja'), ('Ceviche De Panela', '45 mins', 'N/A', 'Baja'), ('Empanadas Vegetarianas', '15 mins', '40 mins', 'Baja'), ('Pizza Hawaiana De Pollo', '1h 30 mins', '20 mins', 'Baja'), ('Cacerola De Verduras Gratinadas', '20 mins', '30 mins', 'Baja'), ('Pollo Con Espinacas En Salsa Cremosa', '40 mins', '30 mins', 'Baja'), ('Rollitos De Calabaza Con Huevo', '15 mins', '15 mins', 'Baja'), ('Receta De Salpicon De Pescado', '30 mins', '10 mins', 'Baja'), ('Tacos De Lechuga Con Atun', '10 mins', 'N/A', 'Baja'), ('Atun A La Plancha', '35 mins', '12 mins', 'Baja'), ('Tortitas De Avena', '30 mins', '15 mins', 'Baja'), ('Empapelado De Pollo Con Verduras', '10 mins', '20 mins', 'Baja'), ('Como Hacer Galletas De Arroz Caseras', '1h', '30 mins', 'Baja'), ('Rajas Con Queso En Salsa Verde', '10 mins', '20 mins', 'Baja'), ('Caldo De Queso', '40 mins', '30 mins', 'Baja'), ('Autentica Ensalada Libanesa', '40 mins', '5 mins', 'Baja'), ('Rollitos De Ensalada De Surimi', '35 mins', 'N/A', 'Baja'), ('Salmon Al Horno En Salsa De Frutos Rojos', '45 mins', '20 mins', 'Baja'), ('Arroz Con Leche Ligero', '40 mins', '35 mins', 'Baja'), ('Ensalada Mediterranea Con Pasta', '15 mins', '12 mins', 'Baja'), ('Mixiotes De Setas Con Mole', '7 mins', '20 mins', 'Baja'), ('Ensalada De Papa Y Atun', '20 mins', '10 mins', 'Baja'), ('Crema De Zanahoria Ligera', '40 mins', '20 mins', 'Baja'), ('Empanadas De Platano Macho', '45 mins', '35 mins', 'Baja'), ('Quesadillas Fritas De Requeson A La Mexicana', '35 mins', '20 mins', 'Baja'), ('Quesadillas De Claras Con Pollo Al Chipotle', '20 mins', '10 mins', 'Baja'), ('Receta De Chop Suey', '1h 10 mins', '35 mins', 'Baja'), ('Guacamole Con Camarones Picositos', '45 mins', '4 mins', 'Baja'), ('Comida Casera Para Perros', '40 mins', '30 mins', 'Baja'), ('Como Hacer Sazonador De Pollo', '25 mins', '4h', 'Baja'), ('Tacos De Bistec Poblano Saludables', '35 mins', '25 mins', 'Baja'), ('Como Hacer Pan Keto', '10 mins', '3 mins', 'Baja'), ('Receta De Sopa De Papa Y Poro', '30 mins', '22 mins', 'Baja'), ('Ceviche Nayarita', '20 mins', 'N/A', 'Baja'), ('Como Hacer Masa Madre', '30 mins', 'N/A', 'Baja'), ('Como Nixtamalizar Maiz Para Tortillas', '12h 30 mins', '30 mins', 'Baja'), ('Crema De Verduras Sin Lacteos', '25 mins', '20 mins', 'Baja'), ('Omelette De Claras Con Verduras', '20 mins', '15 mins', 'Baja'), ('Espagueti De Calabaza A La Bolonesa', '1h', '30 mins', 'Baja'), ('Ensalada De Pasta A La Mexicana', '30 mins', '15 mins', 'Baja'), ('Paella Vegetariana', '1h', '30 mins', 'Baja'), ('Sandwich De Calabacita Con Jamon Y Queso', '30 mins', '20 mins', 'Baja'), ('Calabacitas Rellenas De Tinga De Atun', '30 mins', '20 mins', 'Baja'), ('Ceviche De Coco', '45 mins', 'N/A', 'Baja'), ('Jicatacos De Camaron', '30 mins', '25 mins', 'Baja'), ('Helado De Yogurt Con Almendra', '2h 15 mins', '8 mins', 'Baja')]\n"
     ]
    }
   ],
   "source": [
    "print(response.metadata[\"result\"])\n"
   ]
  },
  {
   "cell_type": "code",
   "execution_count": 114,
   "metadata": {},
   "outputs": [
    {
     "name": "stdout",
     "output_type": "stream",
     "text": [
      "¡Hola! Si estás buscando recetas saludables para ayudarte a bajar de peso, aquí tienes algunas recomendaciones deliciosas:\n",
      "\n",
      "1. **Receta De Ceviche De Chayote**\n",
      "   - **Tiempo de preparación:** 15 mins\n",
      "   - **Tiempo de cocción:** 5 mins\n",
      "   - **Dificultad:** Baja\n",
      "\n",
      "2. **Coliflor Rostizada Con Dip Cremoso**\n",
      "   - **Tiempo de preparación:** 20 mins\n",
      "   - **Tiempo de cocción:** 35 mins\n",
      "   - **Dificultad:** Baja\n",
      "\n",
      "3. **Canoas De Atún**\n",
      "   - **Tiempo de preparación:** 30 mins\n",
      "   - **Tiempo de cocción:** N/A\n",
      "   - **Dificultad:** Baja\n",
      "\n",
      "4. **Salsa Martajada Con Tuétano**\n",
      "   - **Tiempo de preparación:** 50 mins\n",
      "   - **Tiempo de cocción:** 15 mins\n",
      "   - **Dificultad:** Baja\n",
      "\n",
      "5. **Ensalada Con Granada, Pollo Y Nuez**\n",
      "   - **Tiempo de preparación:** 20 mins\n",
      "   - **Tiempo de cocción:** 15 mins\n",
      "   - **Dificultad:** Baja\n",
      "\n",
      "Espero que encuentres alguna de estas recetas útil y deliciosa. ¡Disfruta cocinando! Si necesitas más ayuda, no dudes en preguntar.\n"
     ]
    }
   ],
   "source": [
    "print(response.response)\n"
   ]
  },
  {
   "cell_type": "code",
   "execution_count": 48,
   "metadata": {},
   "outputs": [
    {
     "name": "stdout",
     "output_type": "stream",
     "text": [
      "Running on local URL:  http://127.0.0.1:7868\n",
      "\n",
      "To create a public link, set `share=True` in `launch()`.\n"
     ]
    },
    {
     "data": {
      "text/html": [
       "<div><iframe src=\"http://127.0.0.1:7868/\" width=\"100%\" height=\"500\" allow=\"autoplay; camera; microphone; clipboard-read; clipboard-write;\" frameborder=\"0\" allowfullscreen></iframe></div>"
      ],
      "text/plain": [
       "<IPython.core.display.HTML object>"
      ]
     },
     "metadata": {},
     "output_type": "display_data"
    },
    {
     "data": {
      "text/plain": []
     },
     "execution_count": 48,
     "metadata": {},
     "output_type": "execute_result"
    }
   ],
   "source": [
    "import gradio as gr\n",
    "\n",
    "\n",
    "def model_response(query_str, history=None):\n",
    "    response = query_engine.query(query_str)\n",
    "    return response.response\n",
    "\n",
    "\n",
    "demo = gr.ChatInterface(model_response)\n",
    "\n",
    "demo.launch()\n"
   ]
  },
  {
   "cell_type": "markdown",
   "metadata": {},
   "source": [
    "## Vector from Data\n"
   ]
  },
  {
   "cell_type": "code",
   "execution_count": 75,
   "metadata": {},
   "outputs": [],
   "source": [
    "import pandas as pd\n",
    "from llama_index.core import VectorStoreIndex, SimpleDirectoryReader\n",
    "import os\n",
    "from llama_index.core import Settings\n",
    "from llama_index.embeddings.huggingface import HuggingFaceEmbedding\n",
    "\n",
    "query = \"SELECT * FROM recipes\"\n",
    "# df = pd.read_sql(query, engine)\n",
    "\n",
    "df.to_csv(\"data/out/recipes.csv\", index=False)\n",
    "## Create a vector store index FROM the dataframe df\n",
    "\n",
    "# Settings.embed_model = GeminiEmbedding(model_name=\"models/embedding-001\")\n",
    "Settings.embed_model = HuggingFaceEmbedding(model_name=\"BAAI/bge-base-en-v1.5\")\n",
    "\n",
    "document = SimpleDirectoryReader(input_files=[\"data/out/recipes.csv\"]).load_data()\n"
   ]
  },
  {
   "cell_type": "code",
   "execution_count": 76,
   "metadata": {},
   "outputs": [],
   "source": [
    "vector_store_index = VectorStoreIndex.from_documents(\n",
    "    documents=document,\n",
    ")\n"
   ]
  },
  {
   "cell_type": "code",
   "execution_count": 77,
   "metadata": {},
   "outputs": [],
   "source": [
    "engine = vector_store_index.as_query_engine()\n"
   ]
  },
  {
   "cell_type": "code",
   "execution_count": 86,
   "metadata": {},
   "outputs": [],
   "source": [
    "re = engine.query(\"Cuantas recetas tienes?\")\n"
   ]
  },
  {
   "cell_type": "code",
   "execution_count": 87,
   "metadata": {},
   "outputs": [
    {
     "data": {
      "text/plain": [
       "'Tienes cuatro recetas en total.'"
      ]
     },
     "execution_count": 87,
     "metadata": {},
     "output_type": "execute_result"
    }
   ],
   "source": [
    "re.response\n"
   ]
  },
  {
   "cell_type": "markdown",
   "metadata": {},
   "source": [
    "# Gradio App\n"
   ]
  }
 ],
 "metadata": {
  "kernelspec": {
   "display_name": ".venv",
   "language": "python",
   "name": "python3"
  },
  "language_info": {
   "codemirror_mode": {
    "name": "ipython",
    "version": 3
   },
   "file_extension": ".py",
   "mimetype": "text/x-python",
   "name": "python",
   "nbconvert_exporter": "python",
   "pygments_lexer": "ipython3",
   "version": "3.11.8"
  }
 },
 "nbformat": 4,
 "nbformat_minor": 2
}
