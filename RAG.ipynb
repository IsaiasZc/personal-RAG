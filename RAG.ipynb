{
 "cells": [
  {
   "cell_type": "code",
   "execution_count": 1,
   "metadata": {},
   "outputs": [],
   "source": [
    "# Import the necessary libraries\n",
    "from llama_index.core import Document \n",
    "from llama_index.core.node_parser import (\n",
    "  SentenceSplitter,\n",
    "  SemanticSplitterNodeParser,\n",
    "  MarkdownNodeParser,\n",
    ")\n",
    "from llama_index.embeddings.openai import OpenAIEmbedding"
   ]
  },
  {
   "cell_type": "code",
   "execution_count": 2,
   "metadata": {},
   "outputs": [],
   "source": [
    "filename = 'bebidas.md'\n",
    "base_path = 'data/out'"
   ]
  },
  {
   "cell_type": "code",
   "execution_count": 3,
   "metadata": {},
   "outputs": [],
   "source": [
    "def print_nodes(nodes):\n",
    "  for ix, node in enumerate(nodes):\n",
    "    print(f\"\\n\\n>>> Node {ix} length={len(node.text)}\\n\")\n",
    "    print(node.text)"
   ]
  },
  {
   "cell_type": "code",
   "execution_count": 4,
   "metadata": {},
   "outputs": [
    {
     "name": "stdout",
     "output_type": "stream",
     "text": [
      "length of document: 60764\n"
     ]
    }
   ],
   "source": [
    "with open(f'{base_path}/{filename}', 'r') as f:\n",
    "  text = f.read()\n",
    "  doc = Document(text=text)\n",
    "\n",
    "print(f\"length of document: {len(text)}\")"
   ]
  },
  {
   "cell_type": "markdown",
   "metadata": {},
   "source": [
    "## Sentence Splitter"
   ]
  },
  {
   "cell_type": "code",
   "execution_count": 5,
   "metadata": {},
   "outputs": [],
   "source": [
    "chunk_size = 300\n",
    "chunk_overlap = 0\n",
    "splitter = SentenceSplitter(chunk_size=chunk_size, chunk_overlap=chunk_overlap)"
   ]
  },
  {
   "cell_type": "code",
   "execution_count": 6,
   "metadata": {},
   "outputs": [
    {
     "name": "stdout",
     "output_type": "stream",
     "text": [
      "82\n"
     ]
    }
   ],
   "source": [
    "nodes = splitter.get_nodes_from_documents([doc], show_progress=False)\n",
    "print(len(nodes))"
   ]
  },
  {
   "cell_type": "code",
   "execution_count": 8,
   "metadata": {},
   "outputs": [
    {
     "name": "stdout",
     "output_type": "stream",
     "text": [
      "\n",
      "\n",
      ">>> Node 0 length=712\n",
      "\n",
      "# Bebidas\n",
      "---\n",
      "slug: bebidas\n",
      "url: https://www.kiwilimon.com/recetas/bebidas\n",
      "---\n",
      "\n",
      "\n",
      "## Margarita Cristalina\n",
      "\n",
      "---\n",
      "source: https://www.kiwilimon.com/receta/bebidas/cocteles/margarita-cristalina\n",
      "prep_time: 5 mins\n",
      "cook_time: N/A\n",
      "difficulty: Baja\n",
      "---\n",
      "\n",
      "### Ingredients\n",
      "\n",
      "- 1 1/2 onzas de Tequila Patrón Cristalino\n",
      "- 1/2 onzas de jugo de limón\n",
      "- 1/4 onzas de miel de agave\n",
      "- 2 golpes de solución salina\n",
      "- suficiente de hielo\n",
      "- limón amarillo al gusto\n",
      "\n",
      "### Preparation\n",
      "\n",
      "1. Combina el Tequila Patrón Cristalino, el jugo de limón, la miel de agave y la solución salina en un shaker.\n",
      "2. Agrega los hielos y agita unos segundos.\n",
      "3. Sirve la margarita cristalina en un vaso old fashioned y decora con limón amarillo caramelizado.\n",
      "\n",
      "\n",
      ">>> Node 1 length=700\n",
      "\n",
      "---\n",
      "\n",
      "## Gin Con Lichi\n",
      "\n",
      "---\n",
      "source: https://www.kiwilimon.com/receta/bebidas/cocteles/gin-con-lichi\n",
      "prep_time: 5 mins\n",
      "cook_time: N/A\n",
      "difficulty: Baja\n",
      "---\n",
      "\n",
      "### Ingredients\n",
      "\n",
      "- suficiente de hielo, en cubos\n",
      "- 1 1/2 onzas de ginebra\n",
      "- 3/4 onzas de jugo de limón\n",
      "- 3/4 onzas de jarabe natural\n",
      "- 2 onzas de jugo de lichi, o néctar\n",
      "- suficiente de jugo de limón, para escarchar\n",
      "- suficiente de azúcar, para escarchar\n",
      "- lichi al gusto, para decorar\n",
      "\n",
      "### Preparation\n",
      "\n",
      "1. Escarcha la copa martinera con limón y azúcar. Enfríala.\n",
      "2. Agrega hielos a una coctelera e integra la ginebra, el jugo de limón, el jarabe natural y el jugo de lichi.\n",
      "3. Agita por 1 minuto.\n",
      "4. Decora el gin con lichi entero en un palillo.\n",
      "\n",
      "\n",
      ">>> Node 2 length=811\n",
      "\n",
      "---\n",
      "\n",
      "## Martini 007\n",
      "\n",
      "---\n",
      "source: https://www.kiwilimon.com/receta/bebidas/cocteles/martini-007\n",
      "prep_time: 5 mins\n",
      "cook_time: N/A\n",
      "difficulty: Baja\n",
      "---\n",
      "\n",
      "### Ingredients\n",
      "\n",
      "- 2 onzas de ginebra\n",
      "- 1 onza de vodka, en cubos\n",
      "- 1/4 onzas de Lillet Blanc\n",
      "- hielo al gusto\n",
      "- cáscara de limón amarillo al gusto\n",
      "\n",
      "### Preparation\n",
      "\n",
      "1. Combina la ginebra, el vodka y el Lillet Blanc en un shaker.\n",
      "2. Agrega los hielos y agita unos segundos.\n",
      "3. Sirve el martini en una copa martinera fría y decora con cáscara de limón amarillo.\n",
      "\n",
      "---\n",
      "\n",
      "## Agua De Guayaba\n",
      "\n",
      "---\n",
      "source: https://www.kiwilimon.com/receta/bebidas/sin-alcohol/aguas-frescas/agua-de-guayaba\n",
      "prep_time: 10 mins\n",
      "cook_time: N/A\n",
      "difficulty: Baja\n",
      "---\n",
      "\n",
      "### Ingredients\n",
      "\n",
      "- 500 gramos de guayaba\n",
      "- 1/2 tazas de azúcar\n",
      "- 4 tazas de agua\n",
      "- suficiente de hielo\n",
      "\n",
      "### Preparation\n",
      "\n",
      "1.\n"
     ]
    }
   ],
   "source": [
    "print_nodes(nodes[:3])"
   ]
  }
 ],
 "metadata": {
  "kernelspec": {
   "display_name": ".venv",
   "language": "python",
   "name": "python3"
  },
  "language_info": {
   "codemirror_mode": {
    "name": "ipython",
    "version": 3
   },
   "file_extension": ".py",
   "mimetype": "text/x-python",
   "name": "python",
   "nbconvert_exporter": "python",
   "pygments_lexer": "ipython3",
   "version": "3.11.8"
  }
 },
 "nbformat": 4,
 "nbformat_minor": 2
}
