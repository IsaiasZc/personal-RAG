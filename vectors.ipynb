{
 "cells": [
  {
   "cell_type": "code",
   "execution_count": 1,
   "metadata": {},
   "outputs": [],
   "source": [
    "from llama_index.core import Document\n",
    "from llama_index.core.node_parser import JSONNodeParser\n",
    "from llama_index.embeddings.openai import OpenAIEmbedding\n"
   ]
  },
  {
   "cell_type": "code",
   "execution_count": 2,
   "metadata": {},
   "outputs": [],
   "source": [
    "# configure\n",
    "\n",
    "filename = \"recipes_flat.json\"\n"
   ]
  },
  {
   "cell_type": "code",
   "execution_count": 3,
   "metadata": {},
   "outputs": [
    {
     "name": "stdout",
     "output_type": "stream",
     "text": [
      "2091083\n"
     ]
    }
   ],
   "source": [
    "with open(f\"data/loader/{filename}\", \"r\", encoding=\"utf-8\") as file:\n",
    "    document = Document(\n",
    "        text=file.read(),\n",
    "        metadata={\"filename\": filename},\n",
    "    )\n",
    "print(len(document.text))\n"
   ]
  },
  {
   "cell_type": "code",
   "execution_count": 4,
   "metadata": {},
   "outputs": [
    {
     "name": "stdout",
     "output_type": "stream",
     "text": [
      "1397\n"
     ]
    }
   ],
   "source": [
    "splitter = JSONNodeParser()\n",
    "nodes = splitter.get_nodes_from_documents([document], show_progress=False)\n",
    "print(len(nodes))\n"
   ]
  },
  {
   "cell_type": "code",
   "execution_count": 5,
   "metadata": {},
   "outputs": [
    {
     "name": "stdout",
     "output_type": "stream",
     "text": [
      ">>>0 4f491fc8-fdb8-4450-a23c-0806fbe825d2\n",
      "Metadata {'filename': 'recipes_flat.json'}\n",
      "Text category Bebidas\n",
      "name Margarita Cristalina\n",
      "source https://www.kiwilimon.com/receta/bebidas/cocteles/margarita-cristalina\n",
      "prep_time 5 mins\n",
      "cook_time N/A\n",
      "difficulty Baja\n",
      "ingredients 1 1/2 onzas de Tequi\n",
      "\n",
      "\n",
      "\n",
      ">>>1 9b4fc15d-c5ee-47aa-9d58-6cc3c9a4f666\n",
      "Metadata {'filename': 'recipes_flat.json'}\n",
      "Text category Bebidas\n",
      "name Gin Con Lichi\n",
      "source https://www.kiwilimon.com/receta/bebidas/cocteles/gin-con-lichi\n",
      "prep_time 5 mins\n",
      "cook_time N/A\n",
      "difficulty Baja\n",
      "ingredients suficiente de hielo, en cubos\n",
      "1 1/\n",
      "\n",
      "\n",
      "\n",
      ">>>2 24ebd300-7582-4cd9-b282-15a2c700d21e\n",
      "Metadata {'filename': 'recipes_flat.json'}\n",
      "Text category Bebidas\n",
      "name Martini 007\n",
      "source https://www.kiwilimon.com/receta/bebidas/cocteles/martini-007\n",
      "prep_time 5 mins\n",
      "cook_time N/A\n",
      "difficulty Baja\n",
      "ingredients 2 onzas de ginebra\n",
      "1 onza de vodka, en\n",
      "\n",
      "\n",
      "\n",
      ">>>3 e5cd89b2-9d95-4947-a4cc-7f402be14ec0\n",
      "Metadata {'filename': 'recipes_flat.json'}\n",
      "Text category Bebidas\n",
      "name Agua De Guayaba\n",
      "source https://www.kiwilimon.com/receta/bebidas/sin-alcohol/aguas-frescas/agua-de-guayaba\n",
      "prep_time 10 mins\n",
      "cook_time N/A\n",
      "difficulty Baja\n",
      "ingredients 500 gramos d\n",
      "\n",
      "\n",
      "\n",
      ">>>4 b7bfd083-ae00-4b8b-9c89-07be83cd5207\n",
      "Metadata {'filename': 'recipes_flat.json'}\n",
      "Text category Bebidas\n",
      "name Frappe De Concha\n",
      "source https://www.kiwilimon.com/receta/bebidas/sin-alcohol/licuados/frappe-de-concha\n",
      "prep_time 10 mins\n",
      "cook_time N/A\n",
      "difficulty Baja\n",
      "ingredients 1 taza de hielo\n",
      "\n",
      "\n",
      "\n"
     ]
    }
   ],
   "source": [
    "for ix, node in enumerate(nodes[0:5]):\n",
    "    print(f\">>>{ix} {node.id_}\")\n",
    "    print(\"Metadata\", node.metadata)\n",
    "    print(\"Text\", node.text[:200])\n",
    "    print(\"\\n\\n\")\n"
   ]
  },
  {
   "cell_type": "markdown",
   "metadata": {},
   "source": [
    "# Metadata filters\n",
    "\n",
    "Let's add metadata filters so only certain nodes are retrieved.\n",
    "\n",
    "This example is adapted from https://docs.llamaindex.ai/en/stable/examples/vector_stores/chroma_auto_retriever/\n"
   ]
  },
  {
   "cell_type": "code",
   "execution_count": 6,
   "metadata": {},
   "outputs": [],
   "source": [
    "import re\n",
    "\n",
    "import chromadb\n",
    "\n",
    "from llama_index.core import VectorStoreIndex, StorageContext\n",
    "from llama_index.core.retrievers import VectorIndexAutoRetriever\n",
    "from llama_index.core.vector_stores.types import MetadataInfo, VectorStoreInfo\n",
    "from llama_index.vector_stores.chroma import ChromaVectorStore\n",
    "\n",
    "from llama_index.llms.openai import OpenAI\n",
    "\n",
    "# from llama_index.embeddings.huggingface import HuggingFaceEmbedding\n",
    "from llama_index.embeddings.openai import OpenAIEmbedding\n",
    "\n",
    "## import settings from llama_index\n",
    "from llama_index.core import Settings\n"
   ]
  },
  {
   "cell_type": "code",
   "execution_count": 7,
   "metadata": {},
   "outputs": [],
   "source": [
    "# configure the llm and the embedding model\n",
    "Settings.llm = OpenAI(\n",
    "    model=\"gpt-4o-mini\",\n",
    "    temperature=0.5,\n",
    ")\n",
    "Settings.embed_model = OpenAIEmbedding(model=\"text-embedding-3-small\")\n"
   ]
  },
  {
   "cell_type": "code",
   "execution_count": 8,
   "metadata": {},
   "outputs": [],
   "source": [
    "chroma_client = chromadb.EphemeralClient()\n",
    "chroma_collection = chroma_client.create_collection(\"recipes\")\n",
    "\n",
    "vector_store = ChromaVectorStore(chroma_collection=chroma_collection)\n",
    "storage_context = StorageContext.from_defaults(vector_store=vector_store)\n",
    "\n",
    "index = VectorStoreIndex(nodes, storage_context=storage_context)\n"
   ]
  },
  {
   "cell_type": "code",
   "execution_count": 9,
   "metadata": {},
   "outputs": [],
   "source": [
    "vector_store_info = VectorStoreInfo(\n",
    "    content_info=\"Recipes from the web to eat in diferent ocasions\",\n",
    "    metadata_info=[\n",
    "        MetadataInfo(\n",
    "            name=\"filename\",\n",
    "            type=\"str\",\n",
    "            description=(\n",
    "                \"The filename of the document where the recipe was extracted from\"\n",
    "            ),\n",
    "        ),\n",
    "    ],\n",
    ")\n",
    "retriever = VectorIndexAutoRetriever(index, vector_store_info=vector_store_info)\n"
   ]
  },
  {
   "cell_type": "code",
   "execution_count": 10,
   "metadata": {},
   "outputs": [
    {
     "data": {
      "text/plain": [
       "[NodeWithScore(node=TextNode(id_='f6e2994f-ba77-4c52-a00b-030cb194dd47', embedding=None, metadata={'filename': 'recipes_flat.json'}, excluded_embed_metadata_keys=[], excluded_llm_metadata_keys=[], relationships={<NodeRelationship.SOURCE: '1'>: RelatedNodeInfo(node_id='c9aa72ab-4955-419e-b13c-8920da498773', node_type=<ObjectType.DOCUMENT: '4'>, metadata={'filename': 'recipes_flat.json'}, hash='f97ac26fbb96bc6da10d33567380c98af7e8ec0589da4ace2435cd5fa39c259e'), <NodeRelationship.PREVIOUS: '2'>: RelatedNodeInfo(node_id='8cd611a2-2178-48f8-89d9-0b6861bd0b33', node_type=<ObjectType.TEXT: '1'>, metadata={'filename': 'recipes_flat.json'}, hash='dca514c135bd149d0d07a540847ad6eebd83cf861e9fca795169dbb86c3b2c5e'), <NodeRelationship.NEXT: '3'>: RelatedNodeInfo(node_id='81303b7d-f8b9-420e-a6b3-dbe9e770b583', node_type=<ObjectType.TEXT: '1'>, metadata={}, hash='aba24d4945562b0073af7910ff5ee7c9ddc0dea104bfcd9616737293bf1e9009')}, text='category Postres\\nname Crema Batida Sabor Chocolate\\nsource https://www.kiwilimon.com/receta/postres/chocolate/betun-de-chocolate/crema-batida-sabor-chocolate\\nprep_time 10 mins\\ncook_time N/A\\ndifficulty Baja\\ningredients 2 tazas de crema para batir\\n1/4 tazas de cocoa en polvo\\n1/3 tazas de azúcar glas\\n1 pizca de sal\\n1 cucharada de esencia de vainilla\\npreparation Coloca la crema para batir, la cocoa, el azúcar glas, la sal y la vainilla en un bowl. Bate por 5 minutos o hasta que la crema esté firme.\\nTapa la crema para batir y refrigera hasta que la utilices.', mimetype='text/plain', start_char_idx=None, end_char_idx=None, text_template='{metadata_str}\\n\\n{content}', metadata_template='{key}: {value}', metadata_seperator='\\n'), score=0.4451102204741738),\n",
       " NodeWithScore(node=TextNode(id_='8fb8d356-a83f-45a6-b6ec-a20926f4a619', embedding=None, metadata={'filename': 'recipes_flat.json'}, excluded_embed_metadata_keys=[], excluded_llm_metadata_keys=[], relationships={<NodeRelationship.SOURCE: '1'>: RelatedNodeInfo(node_id='c9aa72ab-4955-419e-b13c-8920da498773', node_type=<ObjectType.DOCUMENT: '4'>, metadata={'filename': 'recipes_flat.json'}, hash='f97ac26fbb96bc6da10d33567380c98af7e8ec0589da4ace2435cd5fa39c259e'), <NodeRelationship.PREVIOUS: '2'>: RelatedNodeInfo(node_id='63101b23-2acf-4219-b129-cedb986764bd', node_type=<ObjectType.TEXT: '1'>, metadata={'filename': 'recipes_flat.json'}, hash='f4a534e4ad62118d9da084bfcc63758489af6b3b6805485a56d414feaae4f76d'), <NodeRelationship.NEXT: '3'>: RelatedNodeInfo(node_id='acb328a3-213f-4b3d-b800-323fded56ceb', node_type=<ObjectType.TEXT: '1'>, metadata={}, hash='a567edb5c6856c27febb2189ba96aa6ebcef5102aeb940b6d4fb7085f38cdc37')}, text='category Postres\\nname Brownie Navideno\\nsource https://www.kiwilimon.com/receta/recetas-navidenas/brownie-navideno\\nprep_time 20 mins\\ncook_time 40 mins\\ndifficulty Baja\\ningredients 1 taza de Hershey’s Cocoa Natural\\n1 taza de harina de trigo\\n1/2 cucharadas de polvo para hornear\\n1/4 cucharadas de sal\\n1 1/2 cucharadas de café soluble\\n1 taza de mantequilla, derretida\\n2 cucharadas de aceite vegetal\\n1 1/4 tazas de azúcar\\n1 taza de azúcar mascabado\\n4 huevos\\n1 cucharada de vainilla líquida\\n1 Barra de repostería Hershey’s chocolate semiamargo\\nbetún al gusto, colo rojo\\nbetún al gusto, color verde\\nperlas comestibles al gusto\\npreparation Corta la Barra de repostería Hershey’s chocolate semi-amargo en trozos medianos y reserva.\\nEn un bowl, mezcla Hershey’s Cocoa Natural, la harina, el polvo para hornear, la sal y el café soluble. Reserva.\\nEn otro bowl, mezcla la mantequilla, el aceite, los azúcares, los huevos y la vainilla en un batidor globo hasta que todos los ingredientes estén integrados. Agrega la mezcla de los ingredientes secos y mezcla con un miserable. Por último, añade la Barra de repostería Hershey’s chocolate semi-amargo en trozos e integra.\\nVierte la mezcla de brownies en un molde cuadrado y hornea a 180 °C por 40 minutos o hasta que estén listos.\\nUna vez listos, corta los brownies en triángulos y decora con betún verde y rojo y perlas comestibles.', mimetype='text/plain', start_char_idx=None, end_char_idx=None, text_template='{metadata_str}\\n\\n{content}', metadata_template='{key}: {value}', metadata_seperator='\\n'), score=0.43737393532188457)]"
      ]
     },
     "execution_count": 10,
     "metadata": {},
     "output_type": "execute_result"
    }
   ],
   "source": [
    "retriever.retrieve(\"Give me a recipe with chocolate\")\n"
   ]
  },
  {
   "cell_type": "code",
   "execution_count": 23,
   "metadata": {},
   "outputs": [],
   "source": [
    "engine = index.as_query_engine()\n",
    "result = engine.query(\"Give me a recipe with chocolate\")\n"
   ]
  },
  {
   "cell_type": "code",
   "execution_count": 24,
   "metadata": {},
   "outputs": [
    {
     "name": "stdout",
     "output_type": "stream",
     "text": [
      "Here is a recipe for Tarta De Chocolate Sin Harina:\n",
      "\n",
      "**Ingredients:**\n",
      "- 1 1/2 tazas de chocolate amargo, troceado\n",
      "- 1 taza de mantequilla\n",
      "- 8 Huevos San Juan®\n",
      "- 1 taza de azúcar\n",
      "- 50 gramos de cocoa\n",
      "- 1 cucharadita de cardamomo\n",
      "- 1/4 cucharaditas de sal\n",
      "- 1 cucharada de esencia de vainilla\n",
      "- 1 taza de nuez, finamente picada\n",
      "\n",
      "**Preparation:**\n",
      "1. Coloca el chocolate en un bowl y derrite a baño maría. Agrega la mantequilla, mezcla y reserva.\n",
      "2. Separa las claras de las yemas de las piezas de Huevo San Juan®. Bate las claras con el azúcar hasta que dupliquen su tamaño y queden firmes. Reserva.\n",
      "3. En un bowl, usa un batidor globo para mezclar el chocolate derretido y las piezas de Huevo San Juan® hasta integrar. Incorpora la cocoa, el cardamomo, la sal y la esencia de vainilla hasta integrar. Añade las claras de manera suave y envolvente.\n",
      "4. Vierte la preparación anterior en un molde redondo previamente enharinado y engrasado. Cubre con las nueces y hornea a 175 °C por 25 minutos. Deja enfriar y reserva la tarta.\n",
      "5. Sirve la tarta de chocolate y acompaña con un vaso con leche.\n",
      "\n",
      "Enjoy your chocolate dessert!\n"
     ]
    }
   ],
   "source": [
    "print(result)\n"
   ]
  }
 ],
 "metadata": {
  "kernelspec": {
   "display_name": ".venv",
   "language": "python",
   "name": "python3"
  },
  "language_info": {
   "codemirror_mode": {
    "name": "ipython",
    "version": 3
   },
   "file_extension": ".py",
   "mimetype": "text/x-python",
   "name": "python",
   "nbconvert_exporter": "python",
   "pygments_lexer": "ipython3",
   "version": "3.11.8"
  }
 },
 "nbformat": 4,
 "nbformat_minor": 2
}
