{
 "cells": [
  {
   "cell_type": "markdown",
   "id": "bf101ff9-a90f-4073-924d-3c91668b1e91",
   "metadata": {},
   "source": [
    "# Scrap Kiwilimon"
   ]
  },
  {
   "cell_type": "markdown",
   "id": "f3a64d13-0b83-42c4-b28f-b06bfc21369b",
   "metadata": {},
   "source": [
    "In this file, we'll be downloading and formatting many reciepes from <a href=\"https://www.kiwilimon.com/\" target=\"_blank\">kiwilimon.com<a/>. First try, let's pray 🙏"
   ]
  },
  {
   "cell_type": "code",
   "execution_count": 3,
   "id": "e842007d-4607-4bc9-bcd7-962d74291d87",
   "metadata": {},
   "outputs": [
    {
     "name": "stdout",
     "output_type": "stream",
     "text": [
      "The autoreload extension is already loaded. To reload it, use:\n",
      "  %reload_ext autoreload\n",
      "cannot find .env file\n"
     ]
    }
   ],
   "source": [
    "%load_ext autoreload\n",
    "%autoreload 2\n",
    "%load_ext dotenv\n",
    "%dotenv"
   ]
  },
  {
   "cell_type": "code",
   "execution_count": 1,
   "id": "a0f44ca1-036c-4e4c-b53e-41842bdd8c88",
   "metadata": {},
   "outputs": [
    {
     "ename": "ModuleNotFoundError",
     "evalue": "No module named 'playwright'",
     "output_type": "error",
     "traceback": [
      "\u001b[0;31m---------------------------------------------------------------------------\u001b[0m",
      "\u001b[0;31mModuleNotFoundError\u001b[0m                       Traceback (most recent call last)",
      "Cell \u001b[0;32mIn[1], line 7\u001b[0m\n\u001b[1;32m      4\u001b[0m \u001b[38;5;28;01mimport\u001b[39;00m \u001b[38;5;21;01mtime\u001b[39;00m\n\u001b[1;32m      5\u001b[0m \u001b[38;5;28;01mfrom\u001b[39;00m \u001b[38;5;21;01murllib\u001b[39;00m\u001b[38;5;21;01m.\u001b[39;00m\u001b[38;5;21;01mparse\u001b[39;00m \u001b[38;5;28;01mimport\u001b[39;00m urljoin, urlparse\n\u001b[0;32m----> 7\u001b[0m \u001b[38;5;28;01mfrom\u001b[39;00m \u001b[38;5;21;01mplaywright\u001b[39;00m\u001b[38;5;21;01m.\u001b[39;00m\u001b[38;5;21;01masync_api\u001b[39;00m \u001b[38;5;28;01mimport\u001b[39;00m async_playwright\n",
      "\u001b[0;31mModuleNotFoundError\u001b[0m: No module named 'playwright'"
     ]
    }
   ],
   "source": [
    "# All we need to import\n",
    "\n",
    "import os\n",
    "import time\n",
    "from urllib.parse import urljoin, urlparse\n",
    "\n",
    "from playwright.async_api import async_playwright"
   ]
  },
  {
   "cell_type": "code",
   "execution_count": null,
   "id": "124e6d58-1819-4c88-9731-c745b3e4acf9",
   "metadata": {},
   "outputs": [],
   "source": [
    "host = 'https://www.kiwilimon.com'\n",
    "base_dir = 'data/raw'\n",
    "bs_parser = 'html.parser'"
   ]
  }
 ],
 "metadata": {
  "kernelspec": {
   "display_name": "Python 3 (ipykernel)",
   "language": "python",
   "name": "python3"
  },
  "language_info": {
   "codemirror_mode": {
    "name": "ipython",
    "version": 3
   },
   "file_extension": ".py",
   "mimetype": "text/x-python",
   "name": "python",
   "nbconvert_exporter": "python",
   "pygments_lexer": "ipython3",
   "version": "3.11.8"
  }
 },
 "nbformat": 4,
 "nbformat_minor": 5
}
