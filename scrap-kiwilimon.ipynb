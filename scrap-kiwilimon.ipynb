{
 "cells": [
  {
   "cell_type": "markdown",
   "id": "bf101ff9-a90f-4073-924d-3c91668b1e91",
   "metadata": {},
   "source": [
    "# Crawling Kiwilimon"
   ]
  },
  {
   "cell_type": "markdown",
   "id": "f3a64d13-0b83-42c4-b28f-b06bfc21369b",
   "metadata": {},
   "source": [
    "In this file, we'll be downloading and formatting many reciepes from <a href=\"https://www.kiwilimon.com/\" target=\"_blank\">kiwilimon.com<a/>. First try, let's pray 🙏"
   ]
  },
  {
   "cell_type": "code",
   "execution_count": 1,
   "id": "e842007d-4607-4bc9-bcd7-962d74291d87",
   "metadata": {},
   "outputs": [
    {
     "name": "stdout",
     "output_type": "stream",
     "text": [
      "cannot find .env file\n"
     ]
    }
   ],
   "source": [
    "%load_ext autoreload\n",
    "%autoreload 2\n",
    "%load_ext dotenv\n",
    "%dotenv"
   ]
  },
  {
   "cell_type": "code",
   "execution_count": 2,
   "id": "a0f44ca1-036c-4e4c-b53e-41842bdd8c88",
   "metadata": {},
   "outputs": [],
   "source": [
    "# All we need to import\n",
    "\n",
    "import os\n",
    "import time\n",
    "from urllib.parse import urljoin, urlparse\n",
    "\n",
    "from playwright.async_api import async_playwright"
   ]
  },
  {
   "cell_type": "code",
   "execution_count": 3,
   "id": "124e6d58-1819-4c88-9731-c745b3e4acf9",
   "metadata": {},
   "outputs": [],
   "source": [
    "host = 'https://www.kiwilimon.com'\n",
    "base_dir = 'data/raw'\n",
    "delay_seconds = 5\n",
    "bs_parser = 'html.parser'\n",
    "\n",
    "if not os.path.exists(base_dir):\n",
    "    os.makedirs(base_dir)"
   ]
  },
  {
   "cell_type": "code",
   "execution_count": 4,
   "id": "80b8a84a-1cd1-4ce1-997c-398d3cd054b9",
   "metadata": {},
   "outputs": [],
   "source": [
    "playwright = await async_playwright().start()\n",
    "browser = await playwright.chromium.launch(headless=False)\n",
    "page = await browser.new_page()"
   ]
  },
  {
   "cell_type": "markdown",
   "id": "2006e705-c126-4016-b822-dd948ba323ec",
   "metadata": {},
   "source": [
    "# Get all categories links"
   ]
  },
  {
   "cell_type": "code",
   "execution_count": 5,
   "id": "177b67fb-3074-4cd1-be61-2a02ec1403c0",
   "metadata": {},
   "outputs": [],
   "source": [
    "# Xpath\n",
    "post_xpath = \"/html/body/div[10]/div[3]/div[3]/div[1]/div/a\" # /html/body/div[10]/div[3]/div[3]/div[1]/div[2]/a\n"
   ]
  },
  {
   "cell_type": "code",
   "execution_count": 6,
   "id": "2777a8e3-cc9f-43d7-a48a-0e840da2a38b",
   "metadata": {},
   "outputs": [
    {
     "name": "stdout",
     "output_type": "stream",
     "text": [
      "https://www.kiwilimon.com/recetas\n",
      "20 20\n"
     ]
    }
   ],
   "source": [
    "post_links = [] # post of each reciepe\n",
    "page_url = page.url\n",
    "\n",
    "while True:\n",
    "    page_url = f'{host}/recetas'\n",
    "    print(page_url)\n",
    "    await page.goto(page_url)\n",
    "    await page.wait_for_load_state()\n",
    "    time.sleep(delay_seconds)\n",
    "    if page_url != page_url:\n",
    "        break\n",
    "    for elm in await page.locator(\"xpath=\"+post_xpath).element_handles():\n",
    "        post_url = urljoin(page_url, await elm.get_attribute(\"href\"))\n",
    "        post_links.append(post_url)\n",
    "    break\n",
    "\n",
    "print(len(post_links), len(set(post_links)) )"
   ]
  },
  {
   "cell_type": "code",
   "execution_count": 7,
   "id": "33de3267-1aac-4351-bfd9-877ec01b5a61",
   "metadata": {},
   "outputs": [
    {
     "data": {
      "text/plain": [
       "['https://www.kiwilimon.com/preferencia/faciles',\n",
       " 'https://www.kiwilimon.com/recetas/postres',\n",
       " 'https://www.kiwilimon.com/recetas/carnes-y-aves',\n",
       " 'https://www.kiwilimon.com/temporada/recetas-a-la-parrilla',\n",
       " 'https://www.kiwilimon.com/recetas/ensaladas',\n",
       " 'https://www.kiwilimon.com/recetas/guarniciones',\n",
       " 'https://www.kiwilimon.com/recetas/pescados-y-mariscos',\n",
       " 'https://www.kiwilimon.com/recetas/botanas',\n",
       " 'https://www.kiwilimon.com/recetas/pastas',\n",
       " 'https://www.kiwilimon.com/recetas/comida-para-ninos',\n",
       " 'https://www.kiwilimon.com/recetas/postres-para-ninos',\n",
       " 'https://www.kiwilimon.com/recetas/sopas',\n",
       " 'https://www.kiwilimon.com/recetas/saludables',\n",
       " 'https://www.kiwilimon.com/recetas/desayunos',\n",
       " 'https://www.kiwilimon.com/recetas/panes',\n",
       " 'https://www.kiwilimon.com/recetas/guarniciones-de-exito',\n",
       " 'https://www.kiwilimon.com/recetas/salsas',\n",
       " 'https://www.kiwilimon.com/recetas/bebidas',\n",
       " 'https://www.kiwilimon.com/recetas/platos-fuertes',\n",
       " 'https://www.kiwilimon.com/temporada/navidad']"
      ]
     },
     "execution_count": 7,
     "metadata": {},
     "output_type": "execute_result"
    }
   ],
   "source": [
    "post_links"
   ]
  },
  {
   "cell_type": "code",
   "execution_count": 8,
   "id": "c3d63ba9-ca0e-433a-8d9f-572fa2705d7d",
   "metadata": {},
   "outputs": [
    {
     "data": {
      "text/plain": [
       "[{'cat': 'Faciles',\n",
       "  'slug': 'faciles',\n",
       "  'link': 'https://www.kiwilimon.com/preferencia/faciles',\n",
       "  'children': []},\n",
       " {'cat': 'Postres',\n",
       "  'slug': 'postres',\n",
       "  'link': 'https://www.kiwilimon.com/recetas/postres',\n",
       "  'children': []},\n",
       " {'cat': 'Carnes Y Aves',\n",
       "  'slug': 'carnes-y-aves',\n",
       "  'link': 'https://www.kiwilimon.com/recetas/carnes-y-aves',\n",
       "  'children': []},\n",
       " {'cat': 'Recetas A La Parrilla',\n",
       "  'slug': 'recetas-a-la-parrilla',\n",
       "  'link': 'https://www.kiwilimon.com/temporada/recetas-a-la-parrilla',\n",
       "  'children': []},\n",
       " {'cat': 'Ensaladas',\n",
       "  'slug': 'ensaladas',\n",
       "  'link': 'https://www.kiwilimon.com/recetas/ensaladas',\n",
       "  'children': []}]"
      ]
     },
     "execution_count": 8,
     "metadata": {},
     "output_type": "execute_result"
    }
   ],
   "source": [
    "post_links = [{\"cat\": ' '.join(url[url.rfind(\"/\") + 1:].split('-')).title(), \"slug\": url[url.rfind(\"/\") + 1:], \"link\": url, \"children\": []} for url in post_links]\n",
    "post_links[:5]"
   ]
  },
  {
   "cell_type": "markdown",
   "id": "6dcf04f6-5d3f-4817-95ca-05ba2333cff1",
   "metadata": {},
   "source": [
    "## Get recipes link from each categorie"
   ]
  },
  {
   "cell_type": "code",
   "execution_count": 9,
   "id": "73988112-85d5-40c1-83ea-5988ed453742",
   "metadata": {},
   "outputs": [],
   "source": [
    "post_xpath = \"/html/body/div[10]/div[7]/div[2]/div/a | /html/body/div[10]/div[7]/div[2]/div/div/a\""
   ]
  },
  {
   "cell_type": "code",
   "execution_count": 10,
   "id": "9385f09a-558c-4ed0-8415-5522c2b68d5f",
   "metadata": {},
   "outputs": [
    {
     "name": "stdout",
     "output_type": "stream",
     "text": [
      "https://www.kiwilimon.com/preferencia/faciles\n",
      "loading...\n",
      "70 recipes added to 'Faciles'.\n",
      "https://www.kiwilimon.com/recetas/postres\n",
      "loading...\n",
      "70 recipes added to 'Postres'.\n",
      "https://www.kiwilimon.com/recetas/carnes-y-aves\n",
      "loading...\n",
      "70 recipes added to 'Carnes Y Aves'.\n",
      "https://www.kiwilimon.com/temporada/recetas-a-la-parrilla\n",
      "loading...\n",
      "70 recipes added to 'Recetas A La Parrilla'.\n",
      "https://www.kiwilimon.com/recetas/ensaladas\n",
      "loading...\n",
      "70 recipes added to 'Ensaladas'.\n",
      "https://www.kiwilimon.com/recetas/guarniciones\n",
      "loading...\n",
      "70 recipes added to 'Guarniciones'.\n",
      "https://www.kiwilimon.com/recetas/pescados-y-mariscos\n",
      "loading...\n",
      "70 recipes added to 'Pescados Y Mariscos'.\n",
      "https://www.kiwilimon.com/recetas/botanas\n",
      "loading...\n",
      "70 recipes added to 'Botanas'.\n",
      "https://www.kiwilimon.com/recetas/pastas\n",
      "loading...\n",
      "70 recipes added to 'Pastas'.\n",
      "https://www.kiwilimon.com/recetas/comida-para-ninos\n",
      "loading...\n",
      "70 recipes added to 'Comida Para Ninos'.\n",
      "https://www.kiwilimon.com/recetas/postres-para-ninos\n",
      "loading...\n",
      "70 recipes added to 'Postres Para Ninos'.\n",
      "https://www.kiwilimon.com/recetas/sopas\n",
      "loading...\n",
      "70 recipes added to 'Sopas'.\n",
      "https://www.kiwilimon.com/recetas/saludables\n",
      "loading...\n",
      "70 recipes added to 'Saludables'.\n",
      "https://www.kiwilimon.com/recetas/desayunos\n",
      "loading...\n",
      "70 recipes added to 'Desayunos'.\n",
      "https://www.kiwilimon.com/recetas/panes\n",
      "loading...\n",
      "70 recipes added to 'Panes'.\n",
      "https://www.kiwilimon.com/recetas/guarniciones-de-exito\n",
      "loading...\n",
      "70 recipes added to 'Guarniciones De Exito'.\n",
      "https://www.kiwilimon.com/recetas/salsas\n",
      "loading...\n",
      "70 recipes added to 'Salsas'.\n",
      "https://www.kiwilimon.com/recetas/bebidas\n",
      "loading...\n",
      "70 recipes added to 'Bebidas'.\n",
      "https://www.kiwilimon.com/recetas/platos-fuertes\n",
      "loading...\n",
      "70 recipes added to 'Platos Fuertes'.\n",
      "https://www.kiwilimon.com/temporada/navidad\n",
      "loading...\n",
      "70 recipes added to 'Navidad'.\n",
      "\n",
      "Done!\n"
     ]
    }
   ],
   "source": [
    "# Get many links from each categorie\n",
    "\n",
    "for idx, post in enumerate(post_links):\n",
    "    page_url = post['link']\n",
    "    print(page_url)\n",
    "    await page.goto(page_url)\n",
    "    await page.wait_for_load_state()\n",
    "    time.sleep(delay_seconds)\n",
    "    if page_url != page_url:\n",
    "        break\n",
    "        \n",
    "    # load more recipes clicking the \"ver más\" button\n",
    "    for _ in range(4):\n",
    "        ver_mas_button = page.locator('div:text(\"Ver más\")')\n",
    "        \n",
    "        # validate if the button is visible\n",
    "        is_visible = await ver_mas_button.is_visible()\n",
    "        if not (await ver_mas_button.count() and is_visible): # avoiding error when there's no more \"Ver más\" buttons\n",
    "            break\n",
    "        await ver_mas_button.click()\n",
    "        await page.wait_for_load_state()\n",
    "        time.sleep(1)\n",
    "    \n",
    "    # load all the recipe links\n",
    "    print(\"loading...\")\n",
    "    for elm in await page.locator(\"xpath=\"+post_xpath).element_handles():\n",
    "        post_url = urljoin(page_url, await elm.get_attribute(\"href\"))\n",
    "        # print(post_links[idx]['cat'], '-', post_url)\n",
    "        name = ' '.join(post_url[post_url.rfind(\"/\") + 1:].split('-')).title()\n",
    "        post_links[idx]['children'].append({'name': name, 'link': post_url})\n",
    "        \n",
    "    print(len(post_links[idx]['children']), f\"recipes added to '{post_links[idx]['cat']}'.\")\n",
    "\n",
    "print(\"\\nDone!\")"
   ]
  },
  {
   "cell_type": "code",
   "execution_count": 11,
   "id": "521ce89d-bb97-49f2-9efe-b77e88b1b534",
   "metadata": {},
   "outputs": [
    {
     "name": "stdout",
     "output_type": "stream",
     "text": [
      "Total recipes: 1400\n"
     ]
    }
   ],
   "source": [
    "suma = [len(chil['children']) for chil in post_links]\n",
    "print(\"Total recipes:\", sum(suma))"
   ]
  },
  {
   "cell_type": "markdown",
   "id": "4f53aa99-ae82-4ba2-94d9-78961cd572d2",
   "metadata": {},
   "source": [
    "##  Get HTML for each post"
   ]
  },
  {
   "cell_type": "code",
   "execution_count": 13,
   "id": "3badfb45-60ba-4b4f-8e7f-4f1376d1ca52",
   "metadata": {},
   "outputs": [
    {
     "name": "stdout",
     "output_type": "stream",
     "text": [
      "Categorie: Faciles\n",
      "Indexing 70 pages. Loading...\n",
      "Categorie: Postres\n",
      "Indexing 70 pages. Loading...\n",
      "Categorie: Carnes Y Aves\n",
      "Indexing 70 pages. Loading...\n",
      "Categorie: Recetas A La Parrilla\n",
      "Indexing 70 pages. Loading...\n",
      "Categorie: Ensaladas\n",
      "Indexing 70 pages. Loading...\n",
      "Categorie: Guarniciones\n",
      "Indexing 70 pages. Loading...\n",
      "Categorie: Pescados Y Mariscos\n",
      "Indexing 70 pages. Loading...\n",
      "Categorie: Botanas\n",
      "Indexing 70 pages. Loading...\n",
      "Categorie: Pastas\n",
      "Indexing 70 pages. Loading...\n",
      "Categorie: Comida Para Ninos\n",
      "Indexing 70 pages. Loading...\n",
      "Categorie: Postres Para Ninos\n",
      "Indexing 70 pages. Loading...\n",
      "Categorie: Sopas\n",
      "Indexing 70 pages. Loading...\n",
      "Categorie: Saludables\n",
      "Indexing 70 pages. Loading...\n",
      "Categorie: Desayunos\n",
      "Indexing 70 pages. Loading...\n",
      "Categorie: Panes\n",
      "Indexing 70 pages. Loading...\n",
      "Categorie: Guarniciones De Exito\n",
      "Indexing 70 pages. Loading...\n",
      "Categorie: Salsas\n",
      "Indexing 70 pages. Loading...\n",
      "Categorie: Bebidas\n",
      "Indexing 70 pages. Loading...\n",
      "Categorie: Platos Fuertes\n",
      "Indexing 70 pages. Loading...\n",
      "Categorie: Navidad\n",
      "Indexing 70 pages. Loading...\n",
      "Done!\n"
     ]
    }
   ],
   "source": [
    "for cat in post_links:\n",
    "    print(\"Categorie:\", cat['cat'])\n",
    "    print(f\"Indexing {len(cat['children'])} pages. Loading...\")\n",
    "    for idx, post in enumerate(cat['children']):\n",
    "        # print(\"idx\",post['link'])\n",
    "        # path = get_post_path(post['link'])\n",
    "        await page.goto(post['link'])\n",
    "        await page.wait_for_load_state()\n",
    "        time.sleep(delay_seconds)\n",
    "        html = await page.content()\n",
    "        post['html'] = html\n",
    "\n",
    "print(\"Done!\")"
   ]
  },
  {
   "cell_type": "code",
   "execution_count": 14,
   "id": "8175b0c6-3973-47e4-ad1d-835b1fae5dfe",
   "metadata": {},
   "outputs": [],
   "source": [
    "await browser.close()\n",
    "await playwright.stop()"
   ]
  },
  {
   "cell_type": "code",
   "execution_count": 19,
   "id": "b45a2c1d-71a0-4837-988f-57d1ec2b7ab5",
   "metadata": {},
   "outputs": [
    {
     "name": "stdout",
     "output_type": "stream",
     "text": [
      "Datos guardados en data/raw/recipes.json\n"
     ]
    }
   ],
   "source": [
    "import json\n",
    "\n",
    "filename = 'recipes.json'\n",
    "filepath = f\"{base_dir}/{filename}\"\n",
    "with open(filepath, \"w\", encoding=\"utf-8\") as f:\n",
    "    json.dump(post_links, f, ensure_ascii=False, indent=2)\n",
    "\n",
    "print(f\"Datos guardados en {filepath}\")"
   ]
  },
  {
   "cell_type": "markdown",
   "id": "9c4a669b-a5d9-4298-a5ff-93b43e9a0c63",
   "metadata": {},
   "source": [
    "## Fixing an error\n",
    "I made a Mistake. I save all the information in one file and that has some problems because the file is too large (2.03 GB). A way to solve it is creating a file for each categorie or creating a file for each page scrapped."
   ]
  },
  {
   "cell_type": "code",
   "execution_count": 1,
   "id": "916a80ab-2330-47c3-8558-51c3e8a9d8f3",
   "metadata": {},
   "outputs": [
    {
     "ename": "NameError",
     "evalue": "name 'post_links' is not defined",
     "output_type": "error",
     "traceback": [
      "\u001b[0;31m---------------------------------------------------------------------------\u001b[0m",
      "\u001b[0;31mNameError\u001b[0m                                 Traceback (most recent call last)",
      "Cell \u001b[0;32mIn[1], line 1\u001b[0m\n\u001b[0;32m----> 1\u001b[0m \u001b[38;5;28;01mfor\u001b[39;00m cat \u001b[38;5;129;01min\u001b[39;00m \u001b[43mpost_links\u001b[49m:\n\u001b[1;32m      2\u001b[0m     filename \u001b[38;5;241m=\u001b[39m \u001b[38;5;124mf\u001b[39m\u001b[38;5;124m\"\u001b[39m\u001b[38;5;132;01m{\u001b[39;00mcat[\u001b[38;5;124m'\u001b[39m\u001b[38;5;124mslug\u001b[39m\u001b[38;5;124m'\u001b[39m]\u001b[38;5;132;01m}\u001b[39;00m\u001b[38;5;124m.json\u001b[39m\u001b[38;5;124m\"\u001b[39m\n\u001b[1;32m      3\u001b[0m     filepath \u001b[38;5;241m=\u001b[39m \u001b[38;5;124mf\u001b[39m\u001b[38;5;124m\"\u001b[39m\u001b[38;5;132;01m{\u001b[39;00mbase_dir\u001b[38;5;132;01m}\u001b[39;00m\u001b[38;5;124m/\u001b[39m\u001b[38;5;132;01m{\u001b[39;00mfilename\u001b[38;5;132;01m}\u001b[39;00m\u001b[38;5;124m\"\u001b[39m\n",
      "\u001b[0;31mNameError\u001b[0m: name 'post_links' is not defined"
     ]
    }
   ],
   "source": [
    "for cat in post_links:\n",
    "    filename = f\"{cat['slug']}.json\"\n",
    "    filepath = f\"{base_dir}/{filename}\"\n",
    "    with open(filepath, \"w\", encoding=\"utf-8\") as f:\n",
    "        json.dump(cat, f, ensure_ascii=False, indent=2)\n",
    "    \n",
    "    print(f\"Datos guardados en {filepath}\")"
   ]
  }
 ],
 "metadata": {
  "kernelspec": {
   "display_name": "Python 3 (ipykernel)",
   "language": "python",
   "name": "python3"
  },
  "language_info": {
   "codemirror_mode": {
    "name": "ipython",
    "version": 3
   },
   "file_extension": ".py",
   "mimetype": "text/x-python",
   "name": "python",
   "nbconvert_exporter": "python",
   "pygments_lexer": "ipython3",
   "version": "3.11.8"
  }
 },
 "nbformat": 4,
 "nbformat_minor": 5
}
