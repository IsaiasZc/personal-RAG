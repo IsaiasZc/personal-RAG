{
 "cells": [
  {
   "cell_type": "code",
   "execution_count": 11,
   "metadata": {},
   "outputs": [],
   "source": [
    "import pandas as pd\n",
    "from sqlalchemy import create_engine\n",
    "from llama_index.llms.openai import OpenAI\n",
    "from llama_index.core.query_engine import NLSQLTableQueryEngine\n",
    "from llama_index.core import SQLDatabase\n"
   ]
  },
  {
   "cell_type": "code",
   "execution_count": 10,
   "metadata": {},
   "outputs": [],
   "source": [
    "file_path = \"data/out/recipes_flat.json\"\n",
    "df = pd.read_json(file_path)\n",
    "llm_gpt = OpenAI(model=\"gpt-4o-mini\")\n"
   ]
  },
  {
   "cell_type": "code",
   "execution_count": 4,
   "metadata": {},
   "outputs": [
    {
     "data": {
      "text/html": [
       "<div>\n",
       "<style scoped>\n",
       "    .dataframe tbody tr th:only-of-type {\n",
       "        vertical-align: middle;\n",
       "    }\n",
       "\n",
       "    .dataframe tbody tr th {\n",
       "        vertical-align: top;\n",
       "    }\n",
       "\n",
       "    .dataframe thead th {\n",
       "        text-align: right;\n",
       "    }\n",
       "</style>\n",
       "<table border=\"1\" class=\"dataframe\">\n",
       "  <thead>\n",
       "    <tr style=\"text-align: right;\">\n",
       "      <th></th>\n",
       "      <th>category</th>\n",
       "      <th>name</th>\n",
       "      <th>source</th>\n",
       "      <th>prep_time</th>\n",
       "      <th>cook_time</th>\n",
       "      <th>difficulty</th>\n",
       "      <th>ingredients</th>\n",
       "      <th>preparation</th>\n",
       "    </tr>\n",
       "  </thead>\n",
       "  <tbody>\n",
       "    <tr>\n",
       "      <th>1392</th>\n",
       "      <td>Sopas</td>\n",
       "      <td>Sopa De Calabacitas Con Chile Poblano</td>\n",
       "      <td>https://www.kiwilimon.com/receta/sopas/sopa-de...</td>\n",
       "      <td>20 mins</td>\n",
       "      <td>25 mins</td>\n",
       "      <td>Baja</td>\n",
       "      <td>1 cucharada de aceite vegetal, o de oliva y ag...</td>\n",
       "      <td>En una olla agrega el aceite y freír la ceboll...</td>\n",
       "    </tr>\n",
       "    <tr>\n",
       "      <th>1393</th>\n",
       "      <td>Sopas</td>\n",
       "      <td>Caldo Tlalpeno Con Chicharron</td>\n",
       "      <td>https://www.kiwilimon.com/receta/sopas/caldo-t...</td>\n",
       "      <td>30 mins</td>\n",
       "      <td>25 mins</td>\n",
       "      <td>Baja</td>\n",
       "      <td>6 tazas de caldo de pollo\\n1 pechuga de pollo,...</td>\n",
       "      <td>En una olla agrega, el aceite con la cebolla, ...</td>\n",
       "    </tr>\n",
       "    <tr>\n",
       "      <th>1394</th>\n",
       "      <td>Sopas</td>\n",
       "      <td>Crema De Espinaca Y Jocoque</td>\n",
       "      <td>https://www.kiwilimon.com/receta/sopas/crema-d...</td>\n",
       "      <td>10 mins</td>\n",
       "      <td>6 mins</td>\n",
       "      <td>Baja</td>\n",
       "      <td>4 tazas de caldo de pollo\\n1 taza de leche eva...</td>\n",
       "      <td>Vierte en tu Vitamix® el caldo de pollo, la le...</td>\n",
       "    </tr>\n",
       "    <tr>\n",
       "      <th>1395</th>\n",
       "      <td>Sopas</td>\n",
       "      <td>Crema De Requeson</td>\n",
       "      <td>https://www.kiwilimon.com/receta/sopas/crema-d...</td>\n",
       "      <td>15 mins</td>\n",
       "      <td>15 mins</td>\n",
       "      <td>Baja</td>\n",
       "      <td>4 cucharadas de mantequilla, en cubos\\n1/2 taz...</td>\n",
       "      <td>En un sartén caliente, derrite la mantequilla ...</td>\n",
       "    </tr>\n",
       "    <tr>\n",
       "      <th>1396</th>\n",
       "      <td>Sopas</td>\n",
       "      <td>Menudo De Res</td>\n",
       "      <td>https://www.kiwilimon.com/receta/sopas/menudo-...</td>\n",
       "      <td>10 mins</td>\n",
       "      <td>3h</td>\n",
       "      <td>Baja</td>\n",
       "      <td>2 manitas de cerdo, 600 g\\n1 pata de res, cort...</td>\n",
       "      <td>En una olla profunda, cocina las manitas de ce...</td>\n",
       "    </tr>\n",
       "  </tbody>\n",
       "</table>\n",
       "</div>"
      ],
      "text/plain": [
       "     category                                   name  \\\n",
       "1392    Sopas  Sopa De Calabacitas Con Chile Poblano   \n",
       "1393    Sopas          Caldo Tlalpeno Con Chicharron   \n",
       "1394    Sopas            Crema De Espinaca Y Jocoque   \n",
       "1395    Sopas                      Crema De Requeson   \n",
       "1396    Sopas                          Menudo De Res   \n",
       "\n",
       "                                                 source prep_time cook_time  \\\n",
       "1392  https://www.kiwilimon.com/receta/sopas/sopa-de...   20 mins   25 mins   \n",
       "1393  https://www.kiwilimon.com/receta/sopas/caldo-t...   30 mins   25 mins   \n",
       "1394  https://www.kiwilimon.com/receta/sopas/crema-d...   10 mins    6 mins   \n",
       "1395  https://www.kiwilimon.com/receta/sopas/crema-d...   15 mins   15 mins   \n",
       "1396  https://www.kiwilimon.com/receta/sopas/menudo-...   10 mins        3h   \n",
       "\n",
       "     difficulty                                        ingredients  \\\n",
       "1392       Baja  1 cucharada de aceite vegetal, o de oliva y ag...   \n",
       "1393       Baja  6 tazas de caldo de pollo\\n1 pechuga de pollo,...   \n",
       "1394       Baja  4 tazas de caldo de pollo\\n1 taza de leche eva...   \n",
       "1395       Baja  4 cucharadas de mantequilla, en cubos\\n1/2 taz...   \n",
       "1396       Baja  2 manitas de cerdo, 600 g\\n1 pata de res, cort...   \n",
       "\n",
       "                                            preparation  \n",
       "1392  En una olla agrega el aceite y freír la ceboll...  \n",
       "1393  En una olla agrega, el aceite con la cebolla, ...  \n",
       "1394  Vierte en tu Vitamix® el caldo de pollo, la le...  \n",
       "1395  En un sartén caliente, derrite la mantequilla ...  \n",
       "1396  En una olla profunda, cocina las manitas de ce...  "
      ]
     },
     "execution_count": 4,
     "metadata": {},
     "output_type": "execute_result"
    }
   ],
   "source": [
    "df.tail()\n"
   ]
  },
  {
   "cell_type": "code",
   "execution_count": 6,
   "metadata": {},
   "outputs": [
    {
     "data": {
      "text/plain": [
       "1397"
      ]
     },
     "execution_count": 6,
     "metadata": {},
     "output_type": "execute_result"
    }
   ],
   "source": [
    "engine = create_engine(\"sqlite:///data/out/recipes.db\")\n",
    "\n",
    "df.to_sql(\"recipes\", con=engine, if_exists=\"replace\", index=False)\n"
   ]
  },
  {
   "cell_type": "code",
   "execution_count": 12,
   "metadata": {},
   "outputs": [],
   "source": [
    "sql_database = SQLDatabase(engine=engine, include_tables=[\"recipes\"])\n"
   ]
  },
  {
   "cell_type": "code",
   "execution_count": 13,
   "metadata": {},
   "outputs": [],
   "source": [
    "query_engine = NLSQLTableQueryEngine(\n",
    "    sql_database=sql_database, tables=[\"recipes\"], llm=llm_gpt\n",
    ")\n"
   ]
  },
  {
   "cell_type": "code",
   "execution_count": 16,
   "metadata": {},
   "outputs": [],
   "source": [
    "query_str = \"Dame una bebida fría\"\n",
    "response = query_engine.query(query_str)\n"
   ]
  },
  {
   "cell_type": "code",
   "execution_count": 17,
   "metadata": {},
   "outputs": [
    {
     "name": "stdout",
     "output_type": "stream",
     "text": [
      "Lo siento, pero no tengo recetas de bebidas frías disponibles en este momento. ¿Te gustaría que te sugiera alguna otra opción o tipo de bebida?\n"
     ]
    }
   ],
   "source": [
    "print(response)\n"
   ]
  }
 ],
 "metadata": {
  "kernelspec": {
   "display_name": ".venv",
   "language": "python",
   "name": "python3"
  },
  "language_info": {
   "codemirror_mode": {
    "name": "ipython",
    "version": 3
   },
   "file_extension": ".py",
   "mimetype": "text/x-python",
   "name": "python",
   "nbconvert_exporter": "python",
   "pygments_lexer": "ipython3",
   "version": "3.11.8"
  }
 },
 "nbformat": 4,
 "nbformat_minor": 2
}
