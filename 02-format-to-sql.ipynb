{
 "cells": [
  {
   "cell_type": "markdown",
   "id": "1b3096a5-cd8f-458d-b334-b5e20bc9cb0c",
   "metadata": {},
   "source": [
    "# Convert current Data to Json\n"
   ]
  },
  {
   "cell_type": "markdown",
   "id": "89283674-3b2d-43ae-876c-9607e1e64c43",
   "metadata": {},
   "source": [
    "Import all the required libraries.\n"
   ]
  },
  {
   "cell_type": "code",
   "execution_count": 1,
   "id": "094f6eb8-86b3-425f-9530-9ab13f78bc2e",
   "metadata": {},
   "outputs": [],
   "source": [
    "import re\n",
    "import json\n",
    "import os\n",
    "from typing import Any, cast\n",
    "import pandas as pd\n",
    "from llama_index.core import SQLDatabase\n",
    "from sqlalchemy import create_engine\n",
    "\n",
    "from bs4 import BeautifulSoup, Tag\n"
   ]
  },
  {
   "cell_type": "code",
   "execution_count": 2,
   "id": "af7df67e-209b-4947-b81a-07f1fed39cfd",
   "metadata": {},
   "outputs": [],
   "source": [
    "# general vars\n",
    "base_path = \"data/raw\"\n",
    "out_path = \"data/out\"\n",
    "bs_parser = \"html.parser\"\n",
    "\n",
    "# list of the files\n",
    "files_name = [\n",
    "    \"bebidas\",\n",
    "    \"botanas\",\n",
    "    \"carnes-y-aves\",\n",
    "    \"comida-para-ninos\",\n",
    "    \"desayunos\",\n",
    "    \"ensaladas\",\n",
    "    \"faciles\",\n",
    "    \"guarniciones-de-exito\",\n",
    "    \"guarniciones\",\n",
    "    \"navidad\",\n",
    "    \"panes\",\n",
    "    \"pastas\",\n",
    "    \"pescados-y-mariscos\",\n",
    "    \"platos-fuertes\",\n",
    "    \"postres-para-ninos\",\n",
    "    \"postres\",\n",
    "    \"recetas-a-la-parrilla\",\n",
    "    \"salsas\",\n",
    "    \"saludables\",\n",
    "    \"sopas\",\n",
    "]\n"
   ]
  },
  {
   "cell_type": "markdown",
   "id": "3bc68aff-5525-4e95-a025-2748967040b1",
   "metadata": {},
   "source": [
    "## Helper functions\n"
   ]
  },
  {
   "cell_type": "markdown",
   "id": "a25b0917-c8e0-49c6-8929-09db23195b64",
   "metadata": {},
   "source": [
    "To convert the HTML to markdown files and clean all the data, I have created some helper functions to clean the text, get the general information from each recipe, get the ingredients, and the preparation steps\n"
   ]
  },
  {
   "cell_type": "code",
   "execution_count": 3,
   "id": "877833bf-9cd2-4692-add8-861ed62df7aa",
   "metadata": {},
   "outputs": [],
   "source": [
    "def clean(text: Any) -> str:\n",
    "    \"\"\"Convert text to a string and clean it.\"\"\"\n",
    "    if text is None:\n",
    "        return \"\"\n",
    "    if isinstance(text, Tag):\n",
    "        text = text.get_text()\n",
    "    if not isinstance(text, str):\n",
    "        text = str(text)\n",
    "    \"\"\"Replace non-breaking space with normal space and remove surrounding whitespace.\"\"\"\n",
    "    text = text.replace(\" \", \" \").replace(\"\\u200b\", \"\").replace(\"\\u200a\", \" \")\n",
    "    text = re.sub(r\"(\\n\\s*)+\\n\", \"\\n\\n\", text)\n",
    "    text = re.sub(r\" +\\n\", \"\\n\", text)\n",
    "    return cast(str, text.strip())\n"
   ]
  },
  {
   "cell_type": "code",
   "execution_count": 4,
   "id": "085456f0-325e-444e-bbc0-0bfac61a385b",
   "metadata": {},
   "outputs": [],
   "source": [
    "def get_general_info(soup, link) -> dict:\n",
    "    e_preparacion = soup.select_one(\n",
    "        \"div.recipe-info-tiempos-nivel .icon-k7-receta-tpreparacion span\"\n",
    "    )\n",
    "    tpreparacion = clean(e_preparacion.get_text()) if e_preparacion else \"N/A\"\n",
    "    e_tcocinar = soup.select_one(\n",
    "        \"div.recipe-info-tiempos-nivel .icon-k7-receta-tcocinar span\"\n",
    "    )\n",
    "    tcocinar = clean(e_tcocinar.get_text()) if e_tcocinar else \"N/A\"\n",
    "    e_tdificulty = soup.select_one(\n",
    "        \"div.recipe-info-tiempos-nivel .icon-k7-receta-tdificultad span\"\n",
    "    )\n",
    "    tdificulty = clean(e_tdificulty.get_text()) if e_tdificulty else \"N/A\"\n",
    "\n",
    "    general_info = {\n",
    "        \"source\": link,\n",
    "        \"prep_time\": tpreparacion,\n",
    "        \"cook_time\": tcocinar,\n",
    "        \"difficulty\": tdificulty,\n",
    "    }\n",
    "\n",
    "    return general_info\n"
   ]
  },
  {
   "cell_type": "code",
   "execution_count": 5,
   "id": "5d10a20e-eb82-4430-b40e-e16381d81be2",
   "metadata": {},
   "outputs": [],
   "source": [
    "def get_ingredients(soup) -> list:\n",
    "    ing_cnt = soup.find(\"div\", id=\"ingredients-original\")\n",
    "    if ing_cnt is None:  # Manejo del caso donde no se encuentra el contenedor\n",
    "        return None\n",
    "\n",
    "    ingredients_labels = ing_cnt.find_all(\"label\", class_=\"receta-containercheck\")\n",
    "    ingredients = [clean(label.get_text(strip=True)) for label in ingredients_labels]\n",
    "\n",
    "    return \"\\n\".join(ingredients)\n",
    "    # return [clean(ingredient) for ingredient in ingredients]\n"
   ]
  },
  {
   "cell_type": "code",
   "execution_count": 6,
   "id": "5c3223f6-07b6-4559-a16f-3b99013fd97a",
   "metadata": {},
   "outputs": [],
   "source": [
    "def get_preparation(soup) -> dict:\n",
    "    prep_cnt = soup.find(\"div\", class_=\"recipe-intro-data-pasos-normal\")\n",
    "\n",
    "    if prep_cnt is None:  # Manejo del caso donde no se encuentra el contenedor\n",
    "        return None\n",
    "\n",
    "    steps_labels = prep_cnt.find_all(\"label\", class_=\"receta-containercheck\")\n",
    "    steps = [clean(step.get_text(strip=True)) for step in steps_labels]\n",
    "\n",
    "    return \"\\n\".join(steps)\n",
    "    # return [clean(step) for step in steps]\n"
   ]
  },
  {
   "cell_type": "code",
   "execution_count": 7,
   "id": "16960a2b-46f3-45b5-a683-2e1abb5f1d31",
   "metadata": {},
   "outputs": [],
   "source": [
    "def make_recipe_dict(name, info, ingred, prep, category) -> dict:\n",
    "    recipe = {\n",
    "        \"category\": category,\n",
    "        \"name\": name,\n",
    "        \"source\": info[\"source\"],\n",
    "        \"prep_time\": info[\"prep_time\"],\n",
    "        \"cook_time\": info[\"cook_time\"],\n",
    "        \"difficulty\": info[\"difficulty\"],\n",
    "        \"ingredients\": ingred,\n",
    "        \"preparation\": prep,\n",
    "    }\n",
    "\n",
    "    return recipe\n"
   ]
  },
  {
   "cell_type": "code",
   "execution_count": 8,
   "id": "b17d874d-83d9-4b59-b5ad-b4e6e16484b1",
   "metadata": {},
   "outputs": [],
   "source": [
    "# function to process each file\n",
    "\n",
    "\n",
    "def process_json(filepath, encode=\"utf-8\") -> list:\n",
    "    with open(filepath, \"r\", encoding=encode) as f:\n",
    "        data = json.load(f)\n",
    "\n",
    "    ## Data for the categorie\n",
    "    cat_name = data[\"cat\"]\n",
    "    # cat['url'] = data['link']\n",
    "    # cat['slug'] = data['slug']\n",
    "\n",
    "    recipes = []\n",
    "    for recipe in data[\"children\"]:\n",
    "\n",
    "        rname = recipe[\"name\"]\n",
    "        rlink = recipe[\"link\"]\n",
    "\n",
    "        html = recipe[\"html\"]\n",
    "        soup = BeautifulSoup(html, bs_parser)\n",
    "\n",
    "        # get general info\n",
    "        info = get_general_info(soup, rlink)\n",
    "\n",
    "        # get ingredients\n",
    "        ingred = get_ingredients(soup)\n",
    "        if not ingred:\n",
    "            continue\n",
    "\n",
    "        # get prep\n",
    "        prep = get_preparation(soup)\n",
    "        if not prep:\n",
    "            continue\n",
    "\n",
    "        ## write and save the file\n",
    "        recipe = make_recipe_dict(rname, info, ingred, prep, cat_name)\n",
    "        recipes.append(recipe)\n",
    "\n",
    "    # cat['recipes'] = recipes\n",
    "\n",
    "    return recipes\n"
   ]
  },
  {
   "cell_type": "markdown",
   "id": "eefd1097-df2a-4eb6-a667-3a398877a10c",
   "metadata": {},
   "source": [
    "## Process files\n"
   ]
  },
  {
   "cell_type": "code",
   "execution_count": 9,
   "id": "80344db6",
   "metadata": {},
   "outputs": [
    {
     "name": "stdout",
     "output_type": "stream",
     "text": [
      "working on file bebidas ...\n",
      "working on file botanas ...\n",
      "working on file carnes-y-aves ...\n",
      "working on file comida-para-ninos ...\n",
      "working on file desayunos ...\n",
      "working on file ensaladas ...\n",
      "working on file faciles ...\n",
      "working on file guarniciones-de-exito ...\n",
      "working on file guarniciones ...\n",
      "working on file navidad ...\n",
      "working on file panes ...\n",
      "working on file pastas ...\n",
      "working on file pescados-y-mariscos ...\n",
      "working on file platos-fuertes ...\n",
      "working on file postres-para-ninos ...\n",
      "working on file postres ...\n",
      "working on file recetas-a-la-parrilla ...\n",
      "working on file salsas ...\n",
      "working on file saludables ...\n",
      "working on file sopas ...\n",
      "Process completed.\n"
     ]
    }
   ],
   "source": [
    "# Create an empty list to store all the categories\n",
    "all_recipes = []\n",
    "\n",
    "for file_name in files_name:\n",
    "    filepath = f\"{base_path}/{file_name}.json\"\n",
    "    os.makedirs(out_path, exist_ok=True)  # create the file if it doesn't exist\n",
    "\n",
    "    print(f\"working on file {file_name} ...\")\n",
    "\n",
    "    # Process the JSON file and append the category to the list\n",
    "    category = process_json(filepath)\n",
    "    all_recipes.extend(category)\n",
    "\n",
    "print(\"Process completed.\")\n"
   ]
  },
  {
   "cell_type": "code",
   "execution_count": 10,
   "id": "1023ce51",
   "metadata": {},
   "outputs": [
    {
     "name": "stdout",
     "output_type": "stream",
     "text": [
      "file saved in data/out/all_categories.json\n"
     ]
    }
   ],
   "source": [
    "# Save all the categories in one JSON file\n",
    "with open(out_path + \"/all_categories.json\", \"w\", encoding=\"utf-8\") as f:\n",
    "    json.dump(all_recipes, f, ensure_ascii=False, indent=4)\n",
    "\n",
    "print(f\"file saved in {out_path}/all_categories.json\")\n"
   ]
  },
  {
   "cell_type": "code",
   "execution_count": 11,
   "id": "354b01dc",
   "metadata": {},
   "outputs": [
    {
     "name": "stdout",
     "output_type": "stream",
     "text": [
      "Number of Recipes: 1,397\n",
      "Number of characters: 2,091,083\n"
     ]
    }
   ],
   "source": [
    "# Open the all_categories.json file and print some statistics\n",
    "\n",
    "with open(out_path + \"/all_categories.json\", \"r\", encoding=\"utf-8\") as f:\n",
    "    length_file = len(f.read())\n",
    "\n",
    "## format the number to have commas\n",
    "print(f\"Number of Recipes: {len(all_recipes):,}\")\n",
    "print(f\"Number of characters: {length_file:,}\")\n"
   ]
  },
  {
   "cell_type": "markdown",
   "id": "3defe558",
   "metadata": {},
   "source": [
    "## Transform the JSON file to SQL\n"
   ]
  },
  {
   "cell_type": "code",
   "execution_count": 12,
   "id": "e3b4f837",
   "metadata": {},
   "outputs": [
    {
     "data": {
      "text/html": [
       "<div>\n",
       "<style scoped>\n",
       "    .dataframe tbody tr th:only-of-type {\n",
       "        vertical-align: middle;\n",
       "    }\n",
       "\n",
       "    .dataframe tbody tr th {\n",
       "        vertical-align: top;\n",
       "    }\n",
       "\n",
       "    .dataframe thead th {\n",
       "        text-align: right;\n",
       "    }\n",
       "</style>\n",
       "<table border=\"1\" class=\"dataframe\">\n",
       "  <thead>\n",
       "    <tr style=\"text-align: right;\">\n",
       "      <th></th>\n",
       "      <th>category</th>\n",
       "      <th>name</th>\n",
       "      <th>source</th>\n",
       "      <th>prep_time</th>\n",
       "      <th>cook_time</th>\n",
       "      <th>difficulty</th>\n",
       "      <th>ingredients</th>\n",
       "      <th>preparation</th>\n",
       "    </tr>\n",
       "  </thead>\n",
       "  <tbody>\n",
       "    <tr>\n",
       "      <th>0</th>\n",
       "      <td>Bebidas</td>\n",
       "      <td>Margarita Cristalina</td>\n",
       "      <td>https://www.kiwilimon.com/receta/bebidas/cocte...</td>\n",
       "      <td>5 mins</td>\n",
       "      <td>N/A</td>\n",
       "      <td>Baja</td>\n",
       "      <td>1 1/2 onzas de Tequila Patrón Cristalino\\n1/2 ...</td>\n",
       "      <td>Combina el Tequila Patrón Cristalino, el jugo ...</td>\n",
       "    </tr>\n",
       "    <tr>\n",
       "      <th>1</th>\n",
       "      <td>Bebidas</td>\n",
       "      <td>Gin Con Lichi</td>\n",
       "      <td>https://www.kiwilimon.com/receta/bebidas/cocte...</td>\n",
       "      <td>5 mins</td>\n",
       "      <td>N/A</td>\n",
       "      <td>Baja</td>\n",
       "      <td>suficiente de hielo, en cubos\\n1 1/2 onzas de ...</td>\n",
       "      <td>Escarcha la copa martinera con limón y azúcar....</td>\n",
       "    </tr>\n",
       "    <tr>\n",
       "      <th>2</th>\n",
       "      <td>Bebidas</td>\n",
       "      <td>Martini 007</td>\n",
       "      <td>https://www.kiwilimon.com/receta/bebidas/cocte...</td>\n",
       "      <td>5 mins</td>\n",
       "      <td>N/A</td>\n",
       "      <td>Baja</td>\n",
       "      <td>2 onzas de ginebra\\n1 onza de vodka, en cubos\\...</td>\n",
       "      <td>Combina la ginebra, el vodka y el Lillet Blanc...</td>\n",
       "    </tr>\n",
       "    <tr>\n",
       "      <th>3</th>\n",
       "      <td>Bebidas</td>\n",
       "      <td>Agua De Guayaba</td>\n",
       "      <td>https://www.kiwilimon.com/receta/bebidas/sin-a...</td>\n",
       "      <td>10 mins</td>\n",
       "      <td>N/A</td>\n",
       "      <td>Baja</td>\n",
       "      <td>500 gramos de guayaba\\n1/2 tazas de azúcar\\n4 ...</td>\n",
       "      <td>Corta las guayabas en cuartos y coloca en una ...</td>\n",
       "    </tr>\n",
       "    <tr>\n",
       "      <th>4</th>\n",
       "      <td>Bebidas</td>\n",
       "      <td>Frappe De Concha</td>\n",
       "      <td>https://www.kiwilimon.com/receta/bebidas/sin-a...</td>\n",
       "      <td>10 mins</td>\n",
       "      <td>N/A</td>\n",
       "      <td>Baja</td>\n",
       "      <td>1 taza de hielo\\n1 taza de leche\\n1/2 tazas de...</td>\n",
       "      <td>Licúa el hielo, la leche, la leche evaporada, ...</td>\n",
       "    </tr>\n",
       "  </tbody>\n",
       "</table>\n",
       "</div>"
      ],
      "text/plain": [
       "  category                  name  \\\n",
       "0  Bebidas  Margarita Cristalina   \n",
       "1  Bebidas         Gin Con Lichi   \n",
       "2  Bebidas           Martini 007   \n",
       "3  Bebidas       Agua De Guayaba   \n",
       "4  Bebidas      Frappe De Concha   \n",
       "\n",
       "                                              source prep_time cook_time  \\\n",
       "0  https://www.kiwilimon.com/receta/bebidas/cocte...    5 mins       N/A   \n",
       "1  https://www.kiwilimon.com/receta/bebidas/cocte...    5 mins       N/A   \n",
       "2  https://www.kiwilimon.com/receta/bebidas/cocte...    5 mins       N/A   \n",
       "3  https://www.kiwilimon.com/receta/bebidas/sin-a...   10 mins       N/A   \n",
       "4  https://www.kiwilimon.com/receta/bebidas/sin-a...   10 mins       N/A   \n",
       "\n",
       "  difficulty                                        ingredients  \\\n",
       "0       Baja  1 1/2 onzas de Tequila Patrón Cristalino\\n1/2 ...   \n",
       "1       Baja  suficiente de hielo, en cubos\\n1 1/2 onzas de ...   \n",
       "2       Baja  2 onzas de ginebra\\n1 onza de vodka, en cubos\\...   \n",
       "3       Baja  500 gramos de guayaba\\n1/2 tazas de azúcar\\n4 ...   \n",
       "4       Baja  1 taza de hielo\\n1 taza de leche\\n1/2 tazas de...   \n",
       "\n",
       "                                         preparation  \n",
       "0  Combina el Tequila Patrón Cristalino, el jugo ...  \n",
       "1  Escarcha la copa martinera con limón y azúcar....  \n",
       "2  Combina la ginebra, el vodka y el Lillet Blanc...  \n",
       "3  Corta las guayabas en cuartos y coloca en una ...  \n",
       "4  Licúa el hielo, la leche, la leche evaporada, ...  "
      ]
     },
     "execution_count": 12,
     "metadata": {},
     "output_type": "execute_result"
    }
   ],
   "source": [
    "file_path = out_path + \"/all_categories.json\"\n",
    "df = pd.read_json(file_path)\n",
    "df.head()\n"
   ]
  },
  {
   "cell_type": "code",
   "execution_count": 13,
   "id": "ddb9cd2d",
   "metadata": {},
   "outputs": [
    {
     "name": "stdout",
     "output_type": "stream",
     "text": [
      "recipes.db saved\n"
     ]
    }
   ],
   "source": [
    "engine = create_engine(\"sqlite:///data/out/recipes.db\")\n",
    "\n",
    "df.to_sql(\"recipes\", con=engine, if_exists=\"replace\", index=False)\n",
    "\n",
    "print(\"recipes.db saved\")\n"
   ]
  }
 ],
 "metadata": {
  "kernelspec": {
   "display_name": "Python 3 (ipykernel)",
   "language": "python",
   "name": "python3"
  },
  "language_info": {
   "codemirror_mode": {
    "name": "ipython",
    "version": 3
   },
   "file_extension": ".py",
   "mimetype": "text/x-python",
   "name": "python",
   "nbconvert_exporter": "python",
   "pygments_lexer": "ipython3",
   "version": "3.11.8"
  }
 },
 "nbformat": 4,
 "nbformat_minor": 5
}
