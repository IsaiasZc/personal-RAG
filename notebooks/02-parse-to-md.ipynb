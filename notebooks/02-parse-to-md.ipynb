{
 "cells": [
  {
   "cell_type": "code",
   "execution_count": 1,
   "metadata": {},
   "outputs": [],
   "source": [
    "import os\n",
    "import pandas as pd\n",
    "from bs4 import BeautifulSoup\n",
    "from tools import make_recipe_md\n"
   ]
  },
  {
   "cell_type": "code",
   "execution_count": 2,
   "metadata": {},
   "outputs": [],
   "source": [
    "data_path = \"../data\"\n",
    "html_path = os.path.join(data_path, \"raw\")\n",
    "md_path = os.path.join(data_path, \"md\")\n",
    "temporary_path = os.path.join(data_path, \"temporary\")\n",
    "\n",
    "bs_parser = \"html.parser\"\n"
   ]
  },
  {
   "cell_type": "code",
   "execution_count": 3,
   "metadata": {},
   "outputs": [
    {
     "data": {
      "text/html": [
       "<div>\n",
       "<style scoped>\n",
       "    .dataframe tbody tr th:only-of-type {\n",
       "        vertical-align: middle;\n",
       "    }\n",
       "\n",
       "    .dataframe tbody tr th {\n",
       "        vertical-align: top;\n",
       "    }\n",
       "\n",
       "    .dataframe thead th {\n",
       "        text-align: right;\n",
       "    }\n",
       "</style>\n",
       "<table border=\"1\" class=\"dataframe\">\n",
       "  <thead>\n",
       "    <tr style=\"text-align: right;\">\n",
       "      <th></th>\n",
       "      <th>category</th>\n",
       "      <th>category_slug</th>\n",
       "      <th>recipe</th>\n",
       "      <th>link</th>\n",
       "      <th>recipe_slug</th>\n",
       "    </tr>\n",
       "  </thead>\n",
       "  <tbody>\n",
       "    <tr>\n",
       "      <th>0</th>\n",
       "      <td>Faciles</td>\n",
       "      <td>faciles</td>\n",
       "      <td>Horchata De Pumpkin Spice</td>\n",
       "      <td>https://www.kiwilimon.com/receta/bebidas/sin-a...</td>\n",
       "      <td>horchata-de-pumpkin-spice</td>\n",
       "    </tr>\n",
       "    <tr>\n",
       "      <th>1</th>\n",
       "      <td>Faciles</td>\n",
       "      <td>faciles</td>\n",
       "      <td>Tostadas De Rajas Con Carne</td>\n",
       "      <td>https://www.kiwilimon.com/receta/platos-fuerte...</td>\n",
       "      <td>tostadas-de-rajas-con-carne</td>\n",
       "    </tr>\n",
       "    <tr>\n",
       "      <th>2</th>\n",
       "      <td>Faciles</td>\n",
       "      <td>faciles</td>\n",
       "      <td>Rollos De Ensalada De Pollo Thai</td>\n",
       "      <td>https://www.kiwilimon.com/receta/platos-fuerte...</td>\n",
       "      <td>rollos-de-ensalada-de-pollo-thai</td>\n",
       "    </tr>\n",
       "    <tr>\n",
       "      <th>3</th>\n",
       "      <td>Faciles</td>\n",
       "      <td>faciles</td>\n",
       "      <td>Espresso Tonic</td>\n",
       "      <td>https://www.kiwilimon.com/receta/bebidas/espre...</td>\n",
       "      <td>espresso-tonic</td>\n",
       "    </tr>\n",
       "    <tr>\n",
       "      <th>4</th>\n",
       "      <td>Faciles</td>\n",
       "      <td>faciles</td>\n",
       "      <td>Atole De Pumpkin Spice</td>\n",
       "      <td>https://www.kiwilimon.com/receta/bebidas/bebid...</td>\n",
       "      <td>atole-de-pumpkin-spice</td>\n",
       "    </tr>\n",
       "  </tbody>\n",
       "</table>\n",
       "</div>"
      ],
      "text/plain": [
       "  category category_slug                            recipe  \\\n",
       "0  Faciles       faciles         Horchata De Pumpkin Spice   \n",
       "1  Faciles       faciles       Tostadas De Rajas Con Carne   \n",
       "2  Faciles       faciles  Rollos De Ensalada De Pollo Thai   \n",
       "3  Faciles       faciles                    Espresso Tonic   \n",
       "4  Faciles       faciles            Atole De Pumpkin Spice   \n",
       "\n",
       "                                                link  \\\n",
       "0  https://www.kiwilimon.com/receta/bebidas/sin-a...   \n",
       "1  https://www.kiwilimon.com/receta/platos-fuerte...   \n",
       "2  https://www.kiwilimon.com/receta/platos-fuerte...   \n",
       "3  https://www.kiwilimon.com/receta/bebidas/espre...   \n",
       "4  https://www.kiwilimon.com/receta/bebidas/bebid...   \n",
       "\n",
       "                        recipe_slug  \n",
       "0         horchata-de-pumpkin-spice  \n",
       "1       tostadas-de-rajas-con-carne  \n",
       "2  rollos-de-ensalada-de-pollo-thai  \n",
       "3                    espresso-tonic  \n",
       "4            atole-de-pumpkin-spice  "
      ]
     },
     "execution_count": 3,
     "metadata": {},
     "output_type": "execute_result"
    }
   ],
   "source": [
    "# load the recipes\n",
    "df_recipes = pd.read_csv(os.path.join(temporary_path, \"recipes.csv\"))\n",
    "\n",
    "df_recipes.head()\n"
   ]
  },
  {
   "cell_type": "markdown",
   "metadata": {},
   "source": [
    "Load the files from the folder\n"
   ]
  },
  {
   "cell_type": "code",
   "execution_count": 4,
   "metadata": {},
   "outputs": [],
   "source": [
    "recipes_list = os.listdir(html_path)\n"
   ]
  },
  {
   "cell_type": "code",
   "execution_count": 5,
   "metadata": {},
   "outputs": [],
   "source": [
    "for recipe in recipes_list[:10]:\n",
    "    name = recipe.replace(\".html\", \"\")\n",
    "    with open(os.path.join(html_path, recipe), \"r\") as f:\n",
    "        content = f.read()\n",
    "\n",
    "    # find the recipe name in the dataframe, if there is more than one, take the first one\n",
    "    recipe_rows = df_recipes[df_recipes[\"recipe_slug\"] == name]\n",
    "    title = recipe_rows.iloc[0][\"recipe\"]\n",
    "\n",
    "    soup = BeautifulSoup(content, bs_parser)\n",
    "    md_content = make_recipe_md(soup, title, recipe_rows)\n",
    "\n",
    "    # save the md file\n",
    "    with open(os.path.join(md_path, name + \".md\"), \"w\") as f:\n",
    "        f.write(md_content)\n"
   ]
  }
 ],
 "metadata": {
  "kernelspec": {
   "display_name": ".venv",
   "language": "python",
   "name": "python3"
  },
  "language_info": {
   "codemirror_mode": {
    "name": "ipython",
    "version": 3
   },
   "file_extension": ".py",
   "mimetype": "text/x-python",
   "name": "python",
   "nbconvert_exporter": "python",
   "pygments_lexer": "ipython3",
   "version": "3.11.8"
  }
 },
 "nbformat": 4,
 "nbformat_minor": 2
}
