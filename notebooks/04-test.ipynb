{
 "cells": [
  {
   "cell_type": "code",
   "execution_count": 1,
   "metadata": {},
   "outputs": [
    {
     "name": "stderr",
     "output_type": "stream",
     "text": [
      "/home/isaiaszc/inter_projects/personal-RAG/.venv/lib/python3.11/site-packages/tqdm/auto.py:21: TqdmWarning: IProgress not found. Please update jupyter and ipywidgets. See https://ipywidgets.readthedocs.io/en/stable/user_install.html\n",
      "  from .autonotebook import tqdm as notebook_tqdm\n"
     ]
    }
   ],
   "source": [
    "import gradio as gr\n",
    "import chromadb\n",
    "from llama_index.vector_stores.chroma import ChromaVectorStore\n",
    "from llama_index.llms.openai import OpenAI\n",
    "from llama_index.core import Settings, VectorStoreIndex\n",
    "from llama_index.embeddings.openai import OpenAIEmbedding\n",
    "from chromadb.config import Settings as StChroma\n"
   ]
  },
  {
   "cell_type": "markdown",
   "metadata": {},
   "source": [
    "# Load the questions into a DataFrame\n",
    "\n",
    "---\n",
    "\n",
    "the questions currently are in a txt file named `questions.txt`.\n"
   ]
  },
  {
   "cell_type": "code",
   "execution_count": 6,
   "metadata": {},
   "outputs": [],
   "source": [
    "import pandas as pd\n"
   ]
  },
  {
   "cell_type": "code",
   "execution_count": 11,
   "metadata": {},
   "outputs": [
    {
     "data": {
      "text/plain": [
       "{'Preguntas por ingredientes': ['Qué recetas puedo hacer con calabaza?',\n",
       "  'Cómo puedo sustituir la harina de trigo en una receta sin perder la textura?',\n",
       "  'Qué puedo cocinar si solo tengo chile serrano y queso?',\n",
       "  'Me puedes sugerir una receta que use pavo y piña?',\n",
       "  'Cómo puedo hacer una receta que no incluya azúcar?'],\n",
       " 'Preguntas por categorías': ['Qué recetas rápidas puedo preparar para un almuerzo?',\n",
       "  'Qué postres puedo hacer que sean sin horno?',\n",
       "  'Me puedes recomendar una receta vegetariana para la cena?',\n",
       "  'Qué recetas mexicanas clásicas tienes que incluyan mole?',\n",
       "  'Qué receta fácil puedo hacer con pasta y mariscos?'],\n",
       " 'Preguntas por preparación': ['Cuál es el tiempo total para preparar helado de nogada?',\n",
       "  'Me puedes dar los pasos para hacer una horchata de pumpkin spice?',\n",
       "  'Cómo puedo preparar tacos dorados en una freidora de aire?',\n",
       "  'Cuáles son las técnicas necesarias para hacer un margarita cristalina?',\n",
       "  'Cómo puedo hornear correctamente un pastel sin horno?'],\n",
       " 'Preguntas sobre dificultad': ['Qué recetas me recomiendas para alguien que es principiante en la cocina?',\n",
       "  'Cuáles son las recetas más difíciles de preparar en la categoría de comida mexicana?',\n",
       "  'Qué postres puedo hacer que no requieran muchas habilidades culinarias?',\n",
       "  'Me puedes sugerir una receta intermedia que incluya pescado?',\n",
       "  'Cuál es la receta más sencilla para hacer un pay de manzana?'],\n",
       " 'Preguntas que induzcan al error': ['Cómo hago una pizza de carne al pastor con helado?',\n",
       "  'Qué receta puedo hacer con salsa verde de tamarindo y mole de frutas?',\n",
       "  'Cuánto tiempo debo hornear una horchata?',\n",
       "  'Cómo puedo preparar una crema de pollo con chocolate?',\n",
       "  'Qué lleva una receta de flan de espagueti con salsa?'],\n",
       " 'Preguntas de variaciones': ['Cómo puedo hacer la receta de pico de gallo con piña más picante?',\n",
       "  'Qué variaciones puedo hacer para la receta de enchiladas de jamón de pavo?',\n",
       "  'Puedo sustituir el pollo en la receta de pastel azteca de crepas por carne de res?',\n",
       "  'Qué ingrediente podría agregar a los esquites con chicharrón para hacerlos más cremosos?',\n",
       "  'Cómo puedo modificar la receta de gelatina de mango con tapioca para que sea vegana?'],\n",
       " 'Preguntas de cantidades': ['Cuántos gramos de chocolate necesito para un pastel de brigadeiro?',\n",
       "  'Cuántas tazas de harina lleva una receta de cupcakes de nogada?',\n",
       "  'Cuál es la cantidad correcta de pimiento para hacer una margarita tinta?',\n",
       "  'Qué cantidad de mole rojo necesito para servir a 6 personas?',\n",
       "  'Cuánto tiempo debo dejar reposar la masa de pizza?'],\n",
       " 'Preguntas de tiempos': ['Cuánto tiempo debo dejar marinando la carne para los tacos de lechón adobado?',\n",
       "  'Cuánto tarda en cocinarse un mole de olla con pollo?',\n",
       "  'Cuánto tiempo lleva preparar un espresso tonic?',\n",
       "  'Cuánto tiempo debo hornear un cheesecake con granada?',\n",
       "  'Cuántos minutos lleva freír las tostadas de rajas con carne?'],\n",
       " 'Preguntas de consejos': ['Qué consejo me das para que el chicharrón de rib eye quede crujiente?',\n",
       "  'Cómo hago para que el pay de manzana no se desmorone al cortarlo?',\n",
       "  'Qué trucos puedo usar para que el guacamole con chapulines no se oxide?',\n",
       "  'Cómo logro que la crema de flor de calabaza con elote quede más espesa?',\n",
       "  'Cómo hago para que el helado casero de kinder bueno no tenga cristales de hielo?'],\n",
       " 'Preguntas sobre adaptación': ['Cómo puedo adaptar la receta de pollo frito estilo Thai para que sea sin gluten?',\n",
       "  'Qué puedo hacer para que la receta de pozole norteño sea más ligera?',\n",
       "  'Cómo adaptar la receta de tamales de mole para que sea más rápida?',\n",
       "  'Qué puedo usar en lugar de crema pastelera en los profiteroles?',\n",
       "  'Cómo puedo hacer una carlota de mazapán si no tengo horno?']}"
      ]
     },
     "execution_count": 11,
     "metadata": {},
     "output_type": "execute_result"
    }
   ],
   "source": [
    "# Open the file questions.txt\n",
    "with open(\"../data/temporary/questions.txt\", \"r\") as file:\n",
    "    questions = file.read().splitlines()\n",
    "\n",
    "# load the file by category, the category start without ¿ and end with :\n",
    "# create a dictionary with the category as key and the questions as value that are\n",
    "# under the category\n",
    "\n",
    "categories = {}\n",
    "category = \"\"\n",
    "for question in questions:\n",
    "    if len(question) > 0 and question[0] != \"¿\":\n",
    "        category = question[:-1]\n",
    "        categories[category] = []\n",
    "    else:\n",
    "        # Append if is not empty\n",
    "        if len(question) > 0:\n",
    "            categories[category].append(question[1:])\n",
    "        # categories[category].append(question[1:])\n",
    "\n",
    "\n",
    "categories\n"
   ]
  },
  {
   "cell_type": "code",
   "execution_count": 16,
   "metadata": {},
   "outputs": [
    {
     "data": {
      "text/html": [
       "<div>\n",
       "<style scoped>\n",
       "    .dataframe tbody tr th:only-of-type {\n",
       "        vertical-align: middle;\n",
       "    }\n",
       "\n",
       "    .dataframe tbody tr th {\n",
       "        vertical-align: top;\n",
       "    }\n",
       "\n",
       "    .dataframe thead th {\n",
       "        text-align: right;\n",
       "    }\n",
       "</style>\n",
       "<table border=\"1\" class=\"dataframe\">\n",
       "  <thead>\n",
       "    <tr style=\"text-align: right;\">\n",
       "      <th></th>\n",
       "      <th>Categorie</th>\n",
       "      <th>Questions</th>\n",
       "    </tr>\n",
       "  </thead>\n",
       "  <tbody>\n",
       "    <tr>\n",
       "      <th>0</th>\n",
       "      <td>Preguntas por ingredientes</td>\n",
       "      <td>Qué recetas puedo hacer con calabaza?</td>\n",
       "    </tr>\n",
       "    <tr>\n",
       "      <th>1</th>\n",
       "      <td>Preguntas por ingredientes</td>\n",
       "      <td>Cómo puedo sustituir la harina de trigo en una...</td>\n",
       "    </tr>\n",
       "    <tr>\n",
       "      <th>2</th>\n",
       "      <td>Preguntas por ingredientes</td>\n",
       "      <td>Qué puedo cocinar si solo tengo chile serrano ...</td>\n",
       "    </tr>\n",
       "    <tr>\n",
       "      <th>3</th>\n",
       "      <td>Preguntas por ingredientes</td>\n",
       "      <td>Me puedes sugerir una receta que use pavo y piña?</td>\n",
       "    </tr>\n",
       "    <tr>\n",
       "      <th>4</th>\n",
       "      <td>Preguntas por ingredientes</td>\n",
       "      <td>Cómo puedo hacer una receta que no incluya azú...</td>\n",
       "    </tr>\n",
       "  </tbody>\n",
       "</table>\n",
       "</div>"
      ],
      "text/plain": [
       "                    Categorie  \\\n",
       "0  Preguntas por ingredientes   \n",
       "1  Preguntas por ingredientes   \n",
       "2  Preguntas por ingredientes   \n",
       "3  Preguntas por ingredientes   \n",
       "4  Preguntas por ingredientes   \n",
       "\n",
       "                                           Questions  \n",
       "0              Qué recetas puedo hacer con calabaza?  \n",
       "1  Cómo puedo sustituir la harina de trigo en una...  \n",
       "2  Qué puedo cocinar si solo tengo chile serrano ...  \n",
       "3  Me puedes sugerir una receta que use pavo y piña?  \n",
       "4  Cómo puedo hacer una receta que no incluya azú...  "
      ]
     },
     "execution_count": 16,
     "metadata": {},
     "output_type": "execute_result"
    }
   ],
   "source": [
    "# load the categories dictionary into a dataframe\n",
    "# donde \"Categorie\" y \"Questions\" son los nombres de las columnas\n",
    "df = pd.DataFrame(\n",
    "    [(k, v) for k, vals in categories.items() for v in vals],\n",
    "    columns=[\"Categorie\", \"Questions\"],\n",
    ")\n",
    "\n",
    "df.head()\n"
   ]
  },
  {
   "cell_type": "markdown",
   "metadata": {},
   "source": [
    "# Load the LLM\n",
    "\n",
    "---\n"
   ]
  },
  {
   "cell_type": "code",
   "execution_count": 2,
   "metadata": {},
   "outputs": [],
   "source": [
    "llm = OpenAI(\n",
    "    model=\"gpt-4o-mini\",\n",
    "    temperature=0.5,\n",
    ")\n",
    "\n",
    "Settings.llm = llm\n",
    "Settings.embed_model = OpenAIEmbedding(model=\"text-embedding-3-small\")\n",
    "\n",
    "embed_model = Settings.embed_model\n"
   ]
  },
  {
   "cell_type": "code",
   "execution_count": 3,
   "metadata": {},
   "outputs": [],
   "source": [
    "chroma_client = chromadb.PersistentClient(\n",
    "    path=\"./chroma_recipe\", settings=StChroma(allow_reset=True)\n",
    ")\n",
    "chroma_collection = chroma_client.get_or_create_collection(name=\"recipes\")\n",
    "\n",
    "vector_store = ChromaVectorStore(chroma_collection=chroma_collection)\n"
   ]
  },
  {
   "cell_type": "code",
   "execution_count": 4,
   "metadata": {},
   "outputs": [],
   "source": [
    "index = VectorStoreIndex.from_vector_store(\n",
    "    vector_store=vector_store,\n",
    "    embed_model=embed_model,\n",
    ")\n"
   ]
  },
  {
   "cell_type": "code",
   "execution_count": 5,
   "metadata": {},
   "outputs": [],
   "source": [
    "query_engine = index.as_query_engine()\n"
   ]
  },
  {
   "cell_type": "markdown",
   "metadata": {},
   "source": [
    "# Test the questions against the LLM\n"
   ]
  },
  {
   "cell_type": "code",
   "execution_count": 18,
   "metadata": {},
   "outputs": [],
   "source": [
    "# using the query engine, ask the questions\n",
    "# and save the answers into new column called \"Answers\"\n",
    "df[\"Answers\"] = df[\"Questions\"].apply(lambda x: query_engine.query(x))\n"
   ]
  },
  {
   "cell_type": "code",
   "execution_count": 19,
   "metadata": {},
   "outputs": [
    {
     "data": {
      "text/html": [
       "<div>\n",
       "<style scoped>\n",
       "    .dataframe tbody tr th:only-of-type {\n",
       "        vertical-align: middle;\n",
       "    }\n",
       "\n",
       "    .dataframe tbody tr th {\n",
       "        vertical-align: top;\n",
       "    }\n",
       "\n",
       "    .dataframe thead th {\n",
       "        text-align: right;\n",
       "    }\n",
       "</style>\n",
       "<table border=\"1\" class=\"dataframe\">\n",
       "  <thead>\n",
       "    <tr style=\"text-align: right;\">\n",
       "      <th></th>\n",
       "      <th>Categorie</th>\n",
       "      <th>Questions</th>\n",
       "      <th>Answers</th>\n",
       "    </tr>\n",
       "  </thead>\n",
       "  <tbody>\n",
       "    <tr>\n",
       "      <th>0</th>\n",
       "      <td>Preguntas por ingredientes</td>\n",
       "      <td>Qué recetas puedo hacer con calabaza?</td>\n",
       "      <td>Puedes hacer \"Calabacitas Con Tocino Y Queso\" ...</td>\n",
       "    </tr>\n",
       "    <tr>\n",
       "      <th>1</th>\n",
       "      <td>Preguntas por ingredientes</td>\n",
       "      <td>Cómo puedo sustituir la harina de trigo en una...</td>\n",
       "      <td>Puedes utilizar harina de linaza o harina de g...</td>\n",
       "    </tr>\n",
       "    <tr>\n",
       "      <th>2</th>\n",
       "      <td>Preguntas por ingredientes</td>\n",
       "      <td>Qué puedo cocinar si solo tengo chile serrano ...</td>\n",
       "      <td>Si solo tienes chile serrano y queso, puedes p...</td>\n",
       "    </tr>\n",
       "    <tr>\n",
       "      <th>3</th>\n",
       "      <td>Preguntas por ingredientes</td>\n",
       "      <td>Me puedes sugerir una receta que use pavo y piña?</td>\n",
       "      <td>No se proporciona una receta específica que in...</td>\n",
       "    </tr>\n",
       "    <tr>\n",
       "      <th>4</th>\n",
       "      <td>Preguntas por ingredientes</td>\n",
       "      <td>Cómo puedo hacer una receta que no incluya azú...</td>\n",
       "      <td>Para hacer una receta que no incluya azúcar, p...</td>\n",
       "    </tr>\n",
       "  </tbody>\n",
       "</table>\n",
       "</div>"
      ],
      "text/plain": [
       "                    Categorie  \\\n",
       "0  Preguntas por ingredientes   \n",
       "1  Preguntas por ingredientes   \n",
       "2  Preguntas por ingredientes   \n",
       "3  Preguntas por ingredientes   \n",
       "4  Preguntas por ingredientes   \n",
       "\n",
       "                                           Questions  \\\n",
       "0              Qué recetas puedo hacer con calabaza?   \n",
       "1  Cómo puedo sustituir la harina de trigo en una...   \n",
       "2  Qué puedo cocinar si solo tengo chile serrano ...   \n",
       "3  Me puedes sugerir una receta que use pavo y piña?   \n",
       "4  Cómo puedo hacer una receta que no incluya azú...   \n",
       "\n",
       "                                             Answers  \n",
       "0  Puedes hacer \"Calabacitas Con Tocino Y Queso\" ...  \n",
       "1  Puedes utilizar harina de linaza o harina de g...  \n",
       "2  Si solo tienes chile serrano y queso, puedes p...  \n",
       "3  No se proporciona una receta específica que in...  \n",
       "4  Para hacer una receta que no incluya azúcar, p...  "
      ]
     },
     "execution_count": 19,
     "metadata": {},
     "output_type": "execute_result"
    }
   ],
   "source": [
    "df.head()\n"
   ]
  },
  {
   "cell_type": "code",
   "execution_count": 20,
   "metadata": {},
   "outputs": [],
   "source": [
    "# save the dataframe into a csv file called \"questions_answers.csv\"\n",
    "df.to_csv(\"../data/temporary/questions_answers.csv\", index=False)\n"
   ]
  }
 ],
 "metadata": {
  "kernelspec": {
   "display_name": ".venv",
   "language": "python",
   "name": "python3"
  },
  "language_info": {
   "codemirror_mode": {
    "name": "ipython",
    "version": 3
   },
   "file_extension": ".py",
   "mimetype": "text/x-python",
   "name": "python",
   "nbconvert_exporter": "python",
   "pygments_lexer": "ipython3",
   "version": "3.11.8"
  }
 },
 "nbformat": 4,
 "nbformat_minor": 2
}
