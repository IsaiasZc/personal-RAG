{
 "cells": [
  {
   "cell_type": "code",
   "execution_count": 7,
   "id": "0f5937ec-d172-407a-ae96-3cd966dd8542",
   "metadata": {},
   "outputs": [],
   "source": [
    "import re\n",
    "import json\n",
    "from typing import Any, cast\n",
    "\n",
    "from bs4 import BeautifulSoup, Tag\n",
    "from markdownify import MarkdownConverter "
   ]
  },
  {
   "cell_type": "code",
   "execution_count": 4,
   "id": "a81852ca-5170-444e-87e1-478bc3bf770e",
   "metadata": {},
   "outputs": [],
   "source": [
    "filepath = 'data/raw/bebidas.json' "
   ]
  },
  {
   "cell_type": "code",
   "execution_count": 5,
   "id": "2e360908-a0e4-40fb-bfa9-d9ef54a88053",
   "metadata": {},
   "outputs": [
    {
     "name": "stdout",
     "output_type": "stream",
     "text": [
      "done\n"
     ]
    }
   ],
   "source": [
    "with open(filepath, 'r', encoding='utf-8') as f:\n",
    "    post_links = json.load(f)\n",
    "\n",
    "print(\"done\")  # Imprime el diccionario cargado"
   ]
  },
  {
   "cell_type": "code",
   "execution_count": null,
   "id": "ae51a95d-4c18-468d-975b-abb78fcb29fb",
   "metadata": {},
   "outputs": [],
   "source": [
    "files_name = ['bebidas.json',\n",
    "              'botanas.json',\n",
    "              'carnes-y-aves.json',\n",
    "              'comida-para-ninos.json',\n",
    "              'desayunos.json',\n",
    "              'ensaladas.json',\n",
    "              'faciles.json',\n",
    "              'guarniciones-de-exito.json',\n",
    "              'guarniciones.json',\n",
    "              'navidad.json',\n",
    "              'panes.json',\n",
    "              'pastas.json',\n",
    "              'pescados-y-mariscos.json',\n",
    "              'platos-fuertes', \n",
    "              'postres-para-ninos',\n",
    "              'postres.json',\n",
    "              'recetas-a-la-parrilla.json',\n",
    "              'salsas.json',\n",
    "              'saludables.json',\n",
    "              'sopas.json']"
   ]
  },
  {
   "cell_type": "markdown",
   "id": "c7048437-c252-4b54-90ca-4aa1b760856d",
   "metadata": {},
   "source": [
    "## Helper Functions"
   ]
  },
  {
   "cell_type": "code",
   "execution_count": null,
   "id": "9f108d5b-c99a-4f14-a14d-5cce698f5f3d",
   "metadata": {},
   "outputs": [],
   "source": [
    "# function to process each file\n",
    "\n",
    "def process_json(filepath, encode='utf-8'):\n",
    "    with open(filepath, 'r', encoding=encode) as f:\n",
    "        data = json.load(f)\n",
    "        "
   ]
  },
  {
   "cell_type": "code",
   "execution_count": null,
   "id": "2ca467b9-f442-4998-aed9-715c7f523fe8",
   "metadata": {},
   "outputs": [],
   "source": [
    "def clean(text: Any) -> str:\n",
    "    \"\"\"Convert text to a string and clean it.\"\"\"\n",
    "    if text is None:\n",
    "        return \"\"\n",
    "    if isinstance(text, Tag):\n",
    "        text = text.get_text()\n",
    "    if not isinstance(text, str):\n",
    "        text = str(text)\n",
    "    \"\"\"Replace non-breaking space with normal space and remove surrounding whitespace.\"\"\"\n",
    "    text = text.replace(\" \", \" \").replace(\"\\u200b\", \"\").replace(\"\\u200a\", \" \")\n",
    "    text = re.sub(r\"(\\n\\s*)+\\n\", \"\\n\\n\", text)\n",
    "    text = re.sub(r\" +\\n\", \"\\n\", text)\n",
    "    return cast(str, text.strip())"
   ]
  }
 ],
 "metadata": {
  "kernelspec": {
   "display_name": "Python 3 (ipykernel)",
   "language": "python",
   "name": "python3"
  },
  "language_info": {
   "codemirror_mode": {
    "name": "ipython",
    "version": 3
   },
   "file_extension": ".py",
   "mimetype": "text/x-python",
   "name": "python",
   "nbconvert_exporter": "python",
   "pygments_lexer": "ipython3",
   "version": "3.11.8"
  }
 },
 "nbformat": 4,
 "nbformat_minor": 5
}
