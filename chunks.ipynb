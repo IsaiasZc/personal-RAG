{
 "cells": [
  {
   "cell_type": "markdown",
   "metadata": {},
   "source": [
    "# Create the chunks prepared for the training of the model\n"
   ]
  },
  {
   "cell_type": "code",
   "execution_count": 1,
   "metadata": {},
   "outputs": [
    {
     "name": "stderr",
     "output_type": "stream",
     "text": [
      "/home/isaiaszc/inter_projects/finance/.venv/lib/python3.11/site-packages/tqdm/auto.py:21: TqdmWarning: IProgress not found. Please update jupyter and ipywidgets. See https://ipywidgets.readthedocs.io/en/stable/user_install.html\n",
      "  from .autonotebook import tqdm as notebook_tqdm\n"
     ]
    }
   ],
   "source": [
    "# Import the necessary libraries\n",
    "import json\n",
    "import os\n",
    "from llama_index.core import VectorStoreIndex, SimpleDirectoryReader, Document\n",
    "from llama_index.core.node_parser import SimpleNodeParser\n",
    "from llama_index.llms.gemini import Gemini\n",
    "from llama_index.embeddings.gemini import GeminiEmbedding\n",
    "from dotenv import load_dotenv\n",
    "import google.generativeai as genai\n",
    "from dotenv import load_dotenv\n"
   ]
  },
  {
   "cell_type": "code",
   "execution_count": 16,
   "metadata": {},
   "outputs": [],
   "source": [
    "base_path = \"data/out\"\n",
    "filename = \"all_categories.json\"\n",
    "\n",
    "load_dotenv()\n",
    "\n",
    "genai.configure(api_key=os.getenv(\"GOOGLE_API_KEY\"))\n"
   ]
  },
  {
   "cell_type": "code",
   "execution_count": 3,
   "metadata": {},
   "outputs": [],
   "source": [
    "def load_json(file_path):\n",
    "    with open(file_path, \"r\", encoding=\"utf-8\") as f:\n",
    "        data = json.load(f)\n",
    "    return data\n",
    "\n",
    "\n",
    "file_path = base_path + \"/\" + filename\n",
    "data = load_json(file_path)\n"
   ]
  },
  {
   "cell_type": "code",
   "execution_count": 4,
   "metadata": {},
   "outputs": [],
   "source": [
    "def extract_categories(data):\n",
    "    categories = {}\n",
    "    for category in data:\n",
    "        category_name = category.get(\"name\")\n",
    "        recipes = category.get(\"recipes\", [])\n",
    "        categories[category_name] = recipes\n",
    "    return categories\n",
    "\n",
    "\n",
    "categories = extract_categories(data)\n"
   ]
  },
  {
   "cell_type": "code",
   "execution_count": 5,
   "metadata": {},
   "outputs": [],
   "source": [
    "def create_chunks(categories, chunk_size=512):\n",
    "    chunks = []\n",
    "    for category, recipes in categories.items():\n",
    "        for recipe in recipes:\n",
    "            recipe_name = recipe.get(\"name\", \"\")\n",
    "            info = recipe.get(\"info\", {})\n",
    "            ingredients = recipe.get(\"ingredients\", [])\n",
    "            preparation = recipe.get(\"preparation\", [])\n",
    "\n",
    "            text = f\"Categoría: {category}\\nNombre: {recipe_name}\\n\"\n",
    "            text += f\"Fuente: {info.get('source', '')}\\nTiempo de preparación: {info.get('prep_time', '')}\\n\"\n",
    "            text += f\"Tiempo de cocción: {info.get('cook_time', '')}\\nDificultad: {info.get('difficulty', '')}\\n\\n\"\n",
    "            text += \"Ingredientes:\\n\" + \"\\n\".join(ingredients) + \"\\n\\n\"\n",
    "            text += \"Preparación:\\n\" + \"\\n\".join(preparation) + \"\\n\"\n",
    "\n",
    "            for i in range(0, len(text), chunk_size):\n",
    "                chunks.append(text[i : i + chunk_size])\n",
    "    return chunks\n",
    "\n",
    "\n",
    "chunks = create_chunks(categories)\n"
   ]
  },
  {
   "cell_type": "code",
   "execution_count": 70,
   "metadata": {},
   "outputs": [],
   "source": [
    "documents = [Document(text=chunk) for chunk in chunks[:1]]\n",
    "\n",
    "gemini_model = Gemini(model_name=\"models/gemini-1.5-flash\", temperature=0.1)\n",
    "\n",
    "embedding_model = GeminiEmbedding(\n",
    "    model_name=\"models/embedding-001\", title=\"Gemini Embedding\"\n",
    ")\n"
   ]
  },
  {
   "cell_type": "code",
   "execution_count": 76,
   "metadata": {},
   "outputs": [],
   "source": [
    "node_parser = SimpleNodeParser.from_defaults()\n",
    "\n",
    "nodes = node_parser.get_nodes_from_documents(documents)\n"
   ]
  },
  {
   "cell_type": "code",
   "execution_count": 66,
   "metadata": {},
   "outputs": [
    {
     "data": {
      "text/plain": [
       "GeminiEmbedding(model_name='models/gemini-1.5-flash', embed_batch_size=10, callback_manager=<llama_index.core.callbacks.base.CallbackManager object at 0x7f1490a1bd50>, num_workers=None, title=None, task_type='retrieval_document', api_key=None)"
      ]
     },
     "execution_count": 66,
     "metadata": {},
     "output_type": "execute_result"
    }
   ],
   "source": [
    "embedding_model\n"
   ]
  },
  {
   "cell_type": "code",
   "execution_count": 77,
   "metadata": {},
   "outputs": [],
   "source": [
    "index = VectorStoreIndex(nodes, embed_model=embedding_model)\n"
   ]
  },
  {
   "cell_type": "code",
   "execution_count": 78,
   "metadata": {},
   "outputs": [
    {
     "name": "stdout",
     "output_type": "stream",
     "text": [
      "Primero, combina el tequila, el jugo de limón, la miel de agave y la solución salina en un shaker. Luego, agrega hielo y agita hasta que esté bien frío. Finalmente, sirve en un vaso con hielo y decora con un limón amarillo. \n",
      "\n"
     ]
    }
   ],
   "source": [
    "query = index.as_query_engine(llm=gemini_model)\n",
    "\n",
    "response = query.query(\"Como preparo una margarita cristalina? indicame el paso a paso\")\n",
    "\n",
    "print(response)\n"
   ]
  },
  {
   "cell_type": "code",
   "execution_count": 81,
   "metadata": {},
   "outputs": [
    {
     "name": "stdout",
     "output_type": "stream",
     "text": [
      "The provided context does not contain information about how to prepare a Mazapan Frappuccino. \n",
      "\n"
     ]
    }
   ],
   "source": [
    "response = query.query(\"Como preparo un frapuccino de Mazapan?\")\n",
    "\n",
    "print(response)\n"
   ]
  }
 ],
 "metadata": {
  "kernelspec": {
   "display_name": ".venv",
   "language": "python",
   "name": "python3"
  },
  "language_info": {
   "codemirror_mode": {
    "name": "ipython",
    "version": 3
   },
   "file_extension": ".py",
   "mimetype": "text/x-python",
   "name": "python",
   "nbconvert_exporter": "python",
   "pygments_lexer": "ipython3",
   "version": "3.11.8"
  }
 },
 "nbformat": 4,
 "nbformat_minor": 2
}
