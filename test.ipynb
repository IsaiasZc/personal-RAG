{
 "cells": [
  {
   "cell_type": "code",
   "execution_count": 1,
   "metadata": {},
   "outputs": [],
   "source": [
    "from llama_index.core.node_parser import JSONNodeParser\n",
    "from llama_index.readers.file import FlatReader\n",
    "from pathlib import Path\n",
    "import json\n"
   ]
  },
  {
   "cell_type": "code",
   "execution_count": 2,
   "metadata": {},
   "outputs": [
    {
     "name": "stdout",
     "output_type": "stream",
     "text": [
      "<class 'list'>\n"
     ]
    }
   ],
   "source": [
    "# with open(\"data/out/recipes_flat.json\", \"r\") as f:\n",
    "#     data = f.read()\n",
    "#     # convert the data to a dictionary from JSON file\n",
    "#     data = json.loads(data)\n",
    "\n",
    "data = FlatReader().load_data(Path(\"./data/out/recipes_flat.json\"))\n",
    "\n",
    "print(type(data))\n"
   ]
  },
  {
   "cell_type": "code",
   "execution_count": 3,
   "metadata": {},
   "outputs": [],
   "source": [
    "splitter = JSONNodeParser()\n",
    "\n",
    "\n",
    "nodes = splitter.get_nodes_from_documents(data)\n"
   ]
  },
  {
   "cell_type": "code",
   "execution_count": 5,
   "metadata": {},
   "outputs": [
    {
     "name": "stdout",
     "output_type": "stream",
     "text": [
      ">>>0 6e8f6aac-deab-46ea-aba1-6b18c9839a8f\n",
      "Metadata {'filename': 'recipes_flat.json', 'extension': '.json'}\n",
      "Text category Bebidas\n",
      "name Margarita Cristalina\n",
      "source https://www.kiwilimon.com/receta/bebidas/cocteles/margarita-cristalina\n",
      "prep_time 5 mins\n",
      "cook_time N/A\n",
      "difficulty Baja\n",
      "ingredients 1 1/2 onzas de Tequi\n",
      "\n",
      "\n",
      "\n",
      ">>>1 a0e0511f-732e-4946-b9cd-b4dcb767d9af\n",
      "Metadata {'filename': 'recipes_flat.json', 'extension': '.json'}\n",
      "Text category Bebidas\n",
      "name Gin Con Lichi\n",
      "source https://www.kiwilimon.com/receta/bebidas/cocteles/gin-con-lichi\n",
      "prep_time 5 mins\n",
      "cook_time N/A\n",
      "difficulty Baja\n",
      "ingredients suficiente de hielo, en cubos\n",
      "1 1/\n",
      "\n",
      "\n",
      "\n",
      ">>>2 78d5f6e9-0df7-4226-bb8c-1b430abeb1ab\n",
      "Metadata {'filename': 'recipes_flat.json', 'extension': '.json'}\n",
      "Text category Bebidas\n",
      "name Martini 007\n",
      "source https://www.kiwilimon.com/receta/bebidas/cocteles/martini-007\n",
      "prep_time 5 mins\n",
      "cook_time N/A\n",
      "difficulty Baja\n",
      "ingredients 2 onzas de ginebra\n",
      "1 onza de vodka, en\n",
      "\n",
      "\n",
      "\n",
      ">>>3 7803e3ab-f387-45f9-8e09-4f4977b11a9c\n",
      "Metadata {'filename': 'recipes_flat.json', 'extension': '.json'}\n",
      "Text category Bebidas\n",
      "name Agua De Guayaba\n",
      "source https://www.kiwilimon.com/receta/bebidas/sin-alcohol/aguas-frescas/agua-de-guayaba\n",
      "prep_time 10 mins\n",
      "cook_time N/A\n",
      "difficulty Baja\n",
      "ingredients 500 gramos d\n",
      "\n",
      "\n",
      "\n",
      ">>>4 6fca3547-066d-4cb0-82da-0fb60407ea2d\n",
      "Metadata {'filename': 'recipes_flat.json', 'extension': '.json'}\n",
      "Text category Bebidas\n",
      "name Frappe De Concha\n",
      "source https://www.kiwilimon.com/receta/bebidas/sin-alcohol/licuados/frappe-de-concha\n",
      "prep_time 10 mins\n",
      "cook_time N/A\n",
      "difficulty Baja\n",
      "ingredients 1 taza de hielo\n",
      "\n",
      "\n",
      "\n"
     ]
    }
   ],
   "source": [
    "for ix, node in enumerate(nodes[0:5]):\n",
    "    print(f\">>>{ix} {node.id_}\")\n",
    "    print(\"Metadata\", node.metadata)\n",
    "    print(\"Text\", node.text[:200])\n",
    "    print(\"\\n\\n\")\n"
   ]
  },
  {
   "cell_type": "markdown",
   "metadata": {},
   "source": [
    "# metadata Filters\n"
   ]
  },
  {
   "cell_type": "code",
   "execution_count": 6,
   "metadata": {},
   "outputs": [],
   "source": [
    "import re\n",
    "\n",
    "import chromadb\n",
    "\n",
    "from llama_index.core import VectorStoreIndex, StorageContext\n",
    "from llama_index.core.retrievers import VectorIndexAutoRetriever\n",
    "from llama_index.core.vector_stores.types import MetadataInfo, VectorStoreInfo\n",
    "from llama_index.vector_stores.chroma import ChromaVectorStore\n"
   ]
  },
  {
   "cell_type": "code",
   "execution_count": 8,
   "metadata": {},
   "outputs": [
    {
     "data": {
      "text/plain": [
       "{'recipes_flat.json'}"
      ]
     },
     "execution_count": 8,
     "metadata": {},
     "output_type": "execute_result"
    }
   ],
   "source": [
    "set(node.metadata[\"filename\"] for node in nodes)\n"
   ]
  },
  {
   "cell_type": "code",
   "execution_count": 12,
   "metadata": {},
   "outputs": [
    {
     "data": {
      "text/plain": [
       "{'recipes_flat.json'}"
      ]
     },
     "execution_count": 12,
     "metadata": {},
     "output_type": "execute_result"
    }
   ],
   "source": [
    "for node in nodes:\n",
    "    if \"filename\" in node.metadata:\n",
    "        node.metadata[\"filename\"] = re.sub(\n",
    "            r\"\\(page \\d+\\)$\", \"\", node.metadata[\"filename\"]\n",
    "        ).strip()\n",
    "set(node.metadata[\"filename\"] for node in nodes)\n"
   ]
  }
 ],
 "metadata": {
  "kernelspec": {
   "display_name": ".venv",
   "language": "python",
   "name": "python3"
  },
  "language_info": {
   "codemirror_mode": {
    "name": "ipython",
    "version": 3
   },
   "file_extension": ".py",
   "mimetype": "text/x-python",
   "name": "python",
   "nbconvert_exporter": "python",
   "pygments_lexer": "ipython3",
   "version": "3.11.8"
  }
 },
 "nbformat": 4,
 "nbformat_minor": 2
}
